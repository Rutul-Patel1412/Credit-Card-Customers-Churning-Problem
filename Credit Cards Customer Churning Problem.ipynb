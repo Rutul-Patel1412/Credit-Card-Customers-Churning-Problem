{
 "cells": [
  {
   "cell_type": "markdown",
   "metadata": {},
   "source": [
    "# This project predicts which customers are more likely to get churned."
   ]
  },
  {
   "cell_type": "markdown",
   "metadata": {},
   "source": [
    "* A manager at the bank is disturbed with more and more customers leaving their credit card services. \n",
    "* They would really appreciate if one could predict for them who is gonna get churned so they can proactively go to the customer to provide them better services and turn customers' decisions in the opposite direction. \n",
    "* Now, this dataset consists of 10,000 customers mentioning their age, salary, marital_status, credit card limit, credit card category, etc. \n",
    "* There are nearly 18 features.We have only 16.07% of customers who have churned. Thus, it's a bit difficult to train our model to predict churning customers."
   ]
  },
  {
   "cell_type": "markdown",
   "metadata": {},
   "source": [
    "## Description Of Data"
   ]
  },
  {
   "cell_type": "markdown",
   "metadata": {},
   "source": [
    "* CLIENTNUM : Client number a is unique identifier for the customer holding the account.\n",
    "* Attrition_Flag : Internal event (customer activity) variable - if the account is closed then attrited customer otherwise existing customer\n",
    "* Customer_Age : Customer's Age in Years\n",
    "* Dependent_count : Number of dependents\n",
    "* Education_Level : Educational Qualification of the account holder (example: high school, college graduate, etc.)\n",
    "* Marital_Status : Married, Single, Divorced, Unknown\n",
    "* Income_Category : Annual Income Category of the account holder (< $40K, $40K - 60K, $60K - $80K, $80K-$120K, > $120)\n",
    "* Card_Category : Product Variable - Type of Card (Blue, Silver, Gold, Platinum)\n",
    "* Months_on_book : Period of relationship with bank\n",
    "* Total_Relationship_Count : Total no. of products held by the customer\n",
    "* Months_Inactive_12_mon : No. of months inactive in the last 12 months\n",
    "* Contacts_Count_12_mon : No. of Contacts in the last 12 months\n",
    "* Credit_Limint : Credit Limit on the Credit Card\n",
    "* Total_Revolving_Bal : Total Revolving Balance on the Credit Card\n",
    "* Avg_Open_To_Buy : Open to Buy Credit Line (Average of last 12 months)\n",
    "* Total_Amt_Chng_Q4_Q1 : Change in Transaction Amount (Q4 over Q1)\n",
    "* Total_Trans_Amt : Total Transaction Amount (Last 12 months)\n",
    "* Total_Trans_Ct : Total Transaction Count (Last 12 months)\n",
    "* Total_Ct_Chng_Q4_Q1 : Change in Transaction Count (Q4 over Q1)\n",
    "* Avg_Utilization_Ratio : Average Card Utilization Ratio"
   ]
  },
  {
   "cell_type": "code",
   "execution_count": 1,
   "metadata": {},
   "outputs": [],
   "source": [
    "import pandas as pd\n",
    "import numpy as np\n",
    "import matplotlib.pyplot as plt\n",
    "import seaborn as sns"
   ]
  },
  {
   "cell_type": "code",
   "execution_count": 2,
   "metadata": {},
   "outputs": [
    {
     "data": {
      "text/html": [
       "<div>\n",
       "<style scoped>\n",
       "    .dataframe tbody tr th:only-of-type {\n",
       "        vertical-align: middle;\n",
       "    }\n",
       "\n",
       "    .dataframe tbody tr th {\n",
       "        vertical-align: top;\n",
       "    }\n",
       "\n",
       "    .dataframe thead th {\n",
       "        text-align: right;\n",
       "    }\n",
       "</style>\n",
       "<table border=\"1\" class=\"dataframe\">\n",
       "  <thead>\n",
       "    <tr style=\"text-align: right;\">\n",
       "      <th></th>\n",
       "      <th>CLIENTNUM</th>\n",
       "      <th>Attrition_Flag</th>\n",
       "      <th>Customer_Age</th>\n",
       "      <th>Gender</th>\n",
       "      <th>Dependent_count</th>\n",
       "      <th>Education_Level</th>\n",
       "      <th>Marital_Status</th>\n",
       "      <th>Income_Category</th>\n",
       "      <th>Card_Category</th>\n",
       "      <th>Months_on_book</th>\n",
       "      <th>...</th>\n",
       "      <th>Credit_Limit</th>\n",
       "      <th>Total_Revolving_Bal</th>\n",
       "      <th>Avg_Open_To_Buy</th>\n",
       "      <th>Total_Amt_Chng_Q4_Q1</th>\n",
       "      <th>Total_Trans_Amt</th>\n",
       "      <th>Total_Trans_Ct</th>\n",
       "      <th>Total_Ct_Chng_Q4_Q1</th>\n",
       "      <th>Avg_Utilization_Ratio</th>\n",
       "      <th>Naive_Bayes_Classifier_Attrition_Flag_Card_Category_Contacts_Count_12_mon_Dependent_count_Education_Level_Months_Inactive_12_mon_1</th>\n",
       "      <th>Naive_Bayes_Classifier_Attrition_Flag_Card_Category_Contacts_Count_12_mon_Dependent_count_Education_Level_Months_Inactive_12_mon_2</th>\n",
       "    </tr>\n",
       "  </thead>\n",
       "  <tbody>\n",
       "    <tr>\n",
       "      <th>0</th>\n",
       "      <td>768805383</td>\n",
       "      <td>Existing Customer</td>\n",
       "      <td>45</td>\n",
       "      <td>M</td>\n",
       "      <td>3</td>\n",
       "      <td>High School</td>\n",
       "      <td>Married</td>\n",
       "      <td>$60K - $80K</td>\n",
       "      <td>Blue</td>\n",
       "      <td>39</td>\n",
       "      <td>...</td>\n",
       "      <td>12691.0</td>\n",
       "      <td>777</td>\n",
       "      <td>11914.0</td>\n",
       "      <td>1.335</td>\n",
       "      <td>1144</td>\n",
       "      <td>42</td>\n",
       "      <td>1.625</td>\n",
       "      <td>0.061</td>\n",
       "      <td>0.000093</td>\n",
       "      <td>0.99991</td>\n",
       "    </tr>\n",
       "    <tr>\n",
       "      <th>1</th>\n",
       "      <td>818770008</td>\n",
       "      <td>Existing Customer</td>\n",
       "      <td>49</td>\n",
       "      <td>F</td>\n",
       "      <td>5</td>\n",
       "      <td>Graduate</td>\n",
       "      <td>Single</td>\n",
       "      <td>Less than $40K</td>\n",
       "      <td>Blue</td>\n",
       "      <td>44</td>\n",
       "      <td>...</td>\n",
       "      <td>8256.0</td>\n",
       "      <td>864</td>\n",
       "      <td>7392.0</td>\n",
       "      <td>1.541</td>\n",
       "      <td>1291</td>\n",
       "      <td>33</td>\n",
       "      <td>3.714</td>\n",
       "      <td>0.105</td>\n",
       "      <td>0.000057</td>\n",
       "      <td>0.99994</td>\n",
       "    </tr>\n",
       "    <tr>\n",
       "      <th>2</th>\n",
       "      <td>713982108</td>\n",
       "      <td>Existing Customer</td>\n",
       "      <td>51</td>\n",
       "      <td>M</td>\n",
       "      <td>3</td>\n",
       "      <td>Graduate</td>\n",
       "      <td>Married</td>\n",
       "      <td>$80K - $120K</td>\n",
       "      <td>Blue</td>\n",
       "      <td>36</td>\n",
       "      <td>...</td>\n",
       "      <td>3418.0</td>\n",
       "      <td>0</td>\n",
       "      <td>3418.0</td>\n",
       "      <td>2.594</td>\n",
       "      <td>1887</td>\n",
       "      <td>20</td>\n",
       "      <td>2.333</td>\n",
       "      <td>0.000</td>\n",
       "      <td>0.000021</td>\n",
       "      <td>0.99998</td>\n",
       "    </tr>\n",
       "    <tr>\n",
       "      <th>3</th>\n",
       "      <td>769911858</td>\n",
       "      <td>Existing Customer</td>\n",
       "      <td>40</td>\n",
       "      <td>F</td>\n",
       "      <td>4</td>\n",
       "      <td>High School</td>\n",
       "      <td>Unknown</td>\n",
       "      <td>Less than $40K</td>\n",
       "      <td>Blue</td>\n",
       "      <td>34</td>\n",
       "      <td>...</td>\n",
       "      <td>3313.0</td>\n",
       "      <td>2517</td>\n",
       "      <td>796.0</td>\n",
       "      <td>1.405</td>\n",
       "      <td>1171</td>\n",
       "      <td>20</td>\n",
       "      <td>2.333</td>\n",
       "      <td>0.760</td>\n",
       "      <td>0.000134</td>\n",
       "      <td>0.99987</td>\n",
       "    </tr>\n",
       "    <tr>\n",
       "      <th>4</th>\n",
       "      <td>709106358</td>\n",
       "      <td>Existing Customer</td>\n",
       "      <td>40</td>\n",
       "      <td>M</td>\n",
       "      <td>3</td>\n",
       "      <td>Uneducated</td>\n",
       "      <td>Married</td>\n",
       "      <td>$60K - $80K</td>\n",
       "      <td>Blue</td>\n",
       "      <td>21</td>\n",
       "      <td>...</td>\n",
       "      <td>4716.0</td>\n",
       "      <td>0</td>\n",
       "      <td>4716.0</td>\n",
       "      <td>2.175</td>\n",
       "      <td>816</td>\n",
       "      <td>28</td>\n",
       "      <td>2.500</td>\n",
       "      <td>0.000</td>\n",
       "      <td>0.000022</td>\n",
       "      <td>0.99998</td>\n",
       "    </tr>\n",
       "  </tbody>\n",
       "</table>\n",
       "<p>5 rows × 23 columns</p>\n",
       "</div>"
      ],
      "text/plain": [
       "   CLIENTNUM     Attrition_Flag  Customer_Age Gender  Dependent_count  \\\n",
       "0  768805383  Existing Customer            45      M                3   \n",
       "1  818770008  Existing Customer            49      F                5   \n",
       "2  713982108  Existing Customer            51      M                3   \n",
       "3  769911858  Existing Customer            40      F                4   \n",
       "4  709106358  Existing Customer            40      M                3   \n",
       "\n",
       "  Education_Level Marital_Status Income_Category Card_Category  \\\n",
       "0     High School        Married     $60K - $80K          Blue   \n",
       "1        Graduate         Single  Less than $40K          Blue   \n",
       "2        Graduate        Married    $80K - $120K          Blue   \n",
       "3     High School        Unknown  Less than $40K          Blue   \n",
       "4      Uneducated        Married     $60K - $80K          Blue   \n",
       "\n",
       "   Months_on_book  ...  Credit_Limit  Total_Revolving_Bal  Avg_Open_To_Buy  \\\n",
       "0              39  ...       12691.0                  777          11914.0   \n",
       "1              44  ...        8256.0                  864           7392.0   \n",
       "2              36  ...        3418.0                    0           3418.0   \n",
       "3              34  ...        3313.0                 2517            796.0   \n",
       "4              21  ...        4716.0                    0           4716.0   \n",
       "\n",
       "   Total_Amt_Chng_Q4_Q1  Total_Trans_Amt  Total_Trans_Ct  Total_Ct_Chng_Q4_Q1  \\\n",
       "0                 1.335             1144              42                1.625   \n",
       "1                 1.541             1291              33                3.714   \n",
       "2                 2.594             1887              20                2.333   \n",
       "3                 1.405             1171              20                2.333   \n",
       "4                 2.175              816              28                2.500   \n",
       "\n",
       "   Avg_Utilization_Ratio  \\\n",
       "0                  0.061   \n",
       "1                  0.105   \n",
       "2                  0.000   \n",
       "3                  0.760   \n",
       "4                  0.000   \n",
       "\n",
       "   Naive_Bayes_Classifier_Attrition_Flag_Card_Category_Contacts_Count_12_mon_Dependent_count_Education_Level_Months_Inactive_12_mon_1  \\\n",
       "0                                           0.000093                                                                                    \n",
       "1                                           0.000057                                                                                    \n",
       "2                                           0.000021                                                                                    \n",
       "3                                           0.000134                                                                                    \n",
       "4                                           0.000022                                                                                    \n",
       "\n",
       "   Naive_Bayes_Classifier_Attrition_Flag_Card_Category_Contacts_Count_12_mon_Dependent_count_Education_Level_Months_Inactive_12_mon_2  \n",
       "0                                            0.99991                                                                                   \n",
       "1                                            0.99994                                                                                   \n",
       "2                                            0.99998                                                                                   \n",
       "3                                            0.99987                                                                                   \n",
       "4                                            0.99998                                                                                   \n",
       "\n",
       "[5 rows x 23 columns]"
      ]
     },
     "execution_count": 2,
     "metadata": {},
     "output_type": "execute_result"
    }
   ],
   "source": [
    "data = pd.read_csv(\"BankChurners.csv\")\n",
    "data.head()"
   ]
  },
  {
   "cell_type": "code",
   "execution_count": 3,
   "metadata": {},
   "outputs": [
    {
     "data": {
      "text/html": [
       "<div>\n",
       "<style scoped>\n",
       "    .dataframe tbody tr th:only-of-type {\n",
       "        vertical-align: middle;\n",
       "    }\n",
       "\n",
       "    .dataframe tbody tr th {\n",
       "        vertical-align: top;\n",
       "    }\n",
       "\n",
       "    .dataframe thead th {\n",
       "        text-align: right;\n",
       "    }\n",
       "</style>\n",
       "<table border=\"1\" class=\"dataframe\">\n",
       "  <thead>\n",
       "    <tr style=\"text-align: right;\">\n",
       "      <th></th>\n",
       "      <th>CLIENTNUM</th>\n",
       "      <th>Attrition_Flag</th>\n",
       "      <th>Customer_Age</th>\n",
       "      <th>Gender</th>\n",
       "      <th>Dependent_count</th>\n",
       "      <th>Education_Level</th>\n",
       "      <th>Marital_Status</th>\n",
       "      <th>Income_Category</th>\n",
       "      <th>Card_Category</th>\n",
       "      <th>Months_on_book</th>\n",
       "      <th>...</th>\n",
       "      <th>Months_Inactive_12_mon</th>\n",
       "      <th>Contacts_Count_12_mon</th>\n",
       "      <th>Credit_Limit</th>\n",
       "      <th>Total_Revolving_Bal</th>\n",
       "      <th>Avg_Open_To_Buy</th>\n",
       "      <th>Total_Amt_Chng_Q4_Q1</th>\n",
       "      <th>Total_Trans_Amt</th>\n",
       "      <th>Total_Trans_Ct</th>\n",
       "      <th>Total_Ct_Chng_Q4_Q1</th>\n",
       "      <th>Avg_Utilization_Ratio</th>\n",
       "    </tr>\n",
       "  </thead>\n",
       "  <tbody>\n",
       "    <tr>\n",
       "      <th>0</th>\n",
       "      <td>768805383</td>\n",
       "      <td>Existing Customer</td>\n",
       "      <td>45</td>\n",
       "      <td>M</td>\n",
       "      <td>3</td>\n",
       "      <td>High School</td>\n",
       "      <td>Married</td>\n",
       "      <td>$60K - $80K</td>\n",
       "      <td>Blue</td>\n",
       "      <td>39</td>\n",
       "      <td>...</td>\n",
       "      <td>1</td>\n",
       "      <td>3</td>\n",
       "      <td>12691.0</td>\n",
       "      <td>777</td>\n",
       "      <td>11914.0</td>\n",
       "      <td>1.335</td>\n",
       "      <td>1144</td>\n",
       "      <td>42</td>\n",
       "      <td>1.625</td>\n",
       "      <td>0.061</td>\n",
       "    </tr>\n",
       "    <tr>\n",
       "      <th>1</th>\n",
       "      <td>818770008</td>\n",
       "      <td>Existing Customer</td>\n",
       "      <td>49</td>\n",
       "      <td>F</td>\n",
       "      <td>5</td>\n",
       "      <td>Graduate</td>\n",
       "      <td>Single</td>\n",
       "      <td>Less than $40K</td>\n",
       "      <td>Blue</td>\n",
       "      <td>44</td>\n",
       "      <td>...</td>\n",
       "      <td>1</td>\n",
       "      <td>2</td>\n",
       "      <td>8256.0</td>\n",
       "      <td>864</td>\n",
       "      <td>7392.0</td>\n",
       "      <td>1.541</td>\n",
       "      <td>1291</td>\n",
       "      <td>33</td>\n",
       "      <td>3.714</td>\n",
       "      <td>0.105</td>\n",
       "    </tr>\n",
       "    <tr>\n",
       "      <th>2</th>\n",
       "      <td>713982108</td>\n",
       "      <td>Existing Customer</td>\n",
       "      <td>51</td>\n",
       "      <td>M</td>\n",
       "      <td>3</td>\n",
       "      <td>Graduate</td>\n",
       "      <td>Married</td>\n",
       "      <td>$80K - $120K</td>\n",
       "      <td>Blue</td>\n",
       "      <td>36</td>\n",
       "      <td>...</td>\n",
       "      <td>1</td>\n",
       "      <td>0</td>\n",
       "      <td>3418.0</td>\n",
       "      <td>0</td>\n",
       "      <td>3418.0</td>\n",
       "      <td>2.594</td>\n",
       "      <td>1887</td>\n",
       "      <td>20</td>\n",
       "      <td>2.333</td>\n",
       "      <td>0.000</td>\n",
       "    </tr>\n",
       "    <tr>\n",
       "      <th>3</th>\n",
       "      <td>769911858</td>\n",
       "      <td>Existing Customer</td>\n",
       "      <td>40</td>\n",
       "      <td>F</td>\n",
       "      <td>4</td>\n",
       "      <td>High School</td>\n",
       "      <td>Unknown</td>\n",
       "      <td>Less than $40K</td>\n",
       "      <td>Blue</td>\n",
       "      <td>34</td>\n",
       "      <td>...</td>\n",
       "      <td>4</td>\n",
       "      <td>1</td>\n",
       "      <td>3313.0</td>\n",
       "      <td>2517</td>\n",
       "      <td>796.0</td>\n",
       "      <td>1.405</td>\n",
       "      <td>1171</td>\n",
       "      <td>20</td>\n",
       "      <td>2.333</td>\n",
       "      <td>0.760</td>\n",
       "    </tr>\n",
       "    <tr>\n",
       "      <th>4</th>\n",
       "      <td>709106358</td>\n",
       "      <td>Existing Customer</td>\n",
       "      <td>40</td>\n",
       "      <td>M</td>\n",
       "      <td>3</td>\n",
       "      <td>Uneducated</td>\n",
       "      <td>Married</td>\n",
       "      <td>$60K - $80K</td>\n",
       "      <td>Blue</td>\n",
       "      <td>21</td>\n",
       "      <td>...</td>\n",
       "      <td>1</td>\n",
       "      <td>0</td>\n",
       "      <td>4716.0</td>\n",
       "      <td>0</td>\n",
       "      <td>4716.0</td>\n",
       "      <td>2.175</td>\n",
       "      <td>816</td>\n",
       "      <td>28</td>\n",
       "      <td>2.500</td>\n",
       "      <td>0.000</td>\n",
       "    </tr>\n",
       "  </tbody>\n",
       "</table>\n",
       "<p>5 rows × 21 columns</p>\n",
       "</div>"
      ],
      "text/plain": [
       "   CLIENTNUM     Attrition_Flag  Customer_Age Gender  Dependent_count  \\\n",
       "0  768805383  Existing Customer            45      M                3   \n",
       "1  818770008  Existing Customer            49      F                5   \n",
       "2  713982108  Existing Customer            51      M                3   \n",
       "3  769911858  Existing Customer            40      F                4   \n",
       "4  709106358  Existing Customer            40      M                3   \n",
       "\n",
       "  Education_Level Marital_Status Income_Category Card_Category  \\\n",
       "0     High School        Married     $60K - $80K          Blue   \n",
       "1        Graduate         Single  Less than $40K          Blue   \n",
       "2        Graduate        Married    $80K - $120K          Blue   \n",
       "3     High School        Unknown  Less than $40K          Blue   \n",
       "4      Uneducated        Married     $60K - $80K          Blue   \n",
       "\n",
       "   Months_on_book  ...  Months_Inactive_12_mon  Contacts_Count_12_mon  \\\n",
       "0              39  ...                       1                      3   \n",
       "1              44  ...                       1                      2   \n",
       "2              36  ...                       1                      0   \n",
       "3              34  ...                       4                      1   \n",
       "4              21  ...                       1                      0   \n",
       "\n",
       "   Credit_Limit  Total_Revolving_Bal  Avg_Open_To_Buy  Total_Amt_Chng_Q4_Q1  \\\n",
       "0       12691.0                  777          11914.0                 1.335   \n",
       "1        8256.0                  864           7392.0                 1.541   \n",
       "2        3418.0                    0           3418.0                 2.594   \n",
       "3        3313.0                 2517            796.0                 1.405   \n",
       "4        4716.0                    0           4716.0                 2.175   \n",
       "\n",
       "   Total_Trans_Amt  Total_Trans_Ct  Total_Ct_Chng_Q4_Q1  Avg_Utilization_Ratio  \n",
       "0             1144              42                1.625                  0.061  \n",
       "1             1291              33                3.714                  0.105  \n",
       "2             1887              20                2.333                  0.000  \n",
       "3             1171              20                2.333                  0.760  \n",
       "4              816              28                2.500                  0.000  \n",
       "\n",
       "[5 rows x 21 columns]"
      ]
     },
     "execution_count": 3,
     "metadata": {},
     "output_type": "execute_result"
    }
   ],
   "source": [
    "# Droping last two columns as instructed on website\n",
    "data = data.drop(columns = ['Naive_Bayes_Classifier_Attrition_Flag_Card_Category_Contacts_Count_12_mon_Dependent_count_Education_Level_Months_Inactive_12_mon_1','Naive_Bayes_Classifier_Attrition_Flag_Card_Category_Contacts_Count_12_mon_Dependent_count_Education_Level_Months_Inactive_12_mon_2'])\n",
    "data.head()"
   ]
  },
  {
   "cell_type": "code",
   "execution_count": 4,
   "metadata": {},
   "outputs": [
    {
     "data": {
      "text/plain": [
       "RangeIndex(start=0, stop=10127, step=1)"
      ]
     },
     "execution_count": 4,
     "metadata": {},
     "output_type": "execute_result"
    }
   ],
   "source": [
    "data['Attrition_Flag'].keys()"
   ]
  },
  {
   "cell_type": "code",
   "execution_count": 5,
   "metadata": {},
   "outputs": [
    {
     "data": {
      "image/png": "[encoded data removed]",
      "text/plain": [
       "<Figure size 360x360 with 1 Axes>"
      ]
     },
     "metadata": {},
     "output_type": "display_data"
    }
   ],
   "source": [
    "fig, ax = plt.subplots(figsize=(5, 5))\n",
    "ax.pie(data['Attrition_Flag'].value_counts(), labels=['Existing Customers','Attrited Customers'],colors=['Yellow','Green'], autopct=lambda p:f'{p:.2f}%')\n",
    "ax.set_title('Percentage of existing and attrited customers')\n",
    "plt.show()"
   ]
  },
  {
   "cell_type": "markdown",
   "metadata": {},
   "source": [
    "# Transforming objects value to numerical value"
   ]
  },
  {
   "cell_type": "code",
   "execution_count": 6,
   "metadata": {},
   "outputs": [
    {
     "data": {
      "text/plain": [
       "CLIENTNUM                     int64\n",
       "Attrition_Flag               object\n",
       "Customer_Age                  int64\n",
       "Gender                       object\n",
       "Dependent_count               int64\n",
       "Education_Level              object\n",
       "Marital_Status               object\n",
       "Income_Category              object\n",
       "Card_Category                object\n",
       "Months_on_book                int64\n",
       "Total_Relationship_Count      int64\n",
       "Months_Inactive_12_mon        int64\n",
       "Contacts_Count_12_mon         int64\n",
       "Credit_Limit                float64\n",
       "Total_Revolving_Bal           int64\n",
       "Avg_Open_To_Buy             float64\n",
       "Total_Amt_Chng_Q4_Q1        float64\n",
       "Total_Trans_Amt               int64\n",
       "Total_Trans_Ct                int64\n",
       "Total_Ct_Chng_Q4_Q1         float64\n",
       "Avg_Utilization_Ratio       float64\n",
       "dtype: object"
      ]
     },
     "execution_count": 6,
     "metadata": {},
     "output_type": "execute_result"
    }
   ],
   "source": [
    "data.dtypes"
   ]
  },
  {
   "cell_type": "code",
   "execution_count": 7,
   "metadata": {},
   "outputs": [
    {
     "data": {
      "text/plain": [
       "Attrition_Flag     object\n",
       "Gender             object\n",
       "Education_Level    object\n",
       "Marital_Status     object\n",
       "Income_Category    object\n",
       "Card_Category      object\n",
       "dtype: object"
      ]
     },
     "execution_count": 7,
     "metadata": {},
     "output_type": "execute_result"
    }
   ],
   "source": [
    "data.dtypes[data.dtypes==object]"
   ]
  },
  {
   "cell_type": "code",
   "execution_count": 8,
   "metadata": {},
   "outputs": [
    {
     "data": {
      "text/plain": [
       "Existing Customer    8500\n",
       "Attrited Customer    1627\n",
       "Name: Attrition_Flag, dtype: int64"
      ]
     },
     "execution_count": 8,
     "metadata": {},
     "output_type": "execute_result"
    }
   ],
   "source": [
    "data['Attrition_Flag'].value_counts()"
   ]
  },
  {
   "cell_type": "code",
   "execution_count": 9,
   "metadata": {},
   "outputs": [
    {
     "data": {
      "text/plain": [
       "F    5358\n",
       "M    4769\n",
       "Name: Gender, dtype: int64"
      ]
     },
     "execution_count": 9,
     "metadata": {},
     "output_type": "execute_result"
    }
   ],
   "source": [
    "data['Gender'].value_counts()"
   ]
  },
  {
   "cell_type": "code",
   "execution_count": 10,
   "metadata": {},
   "outputs": [
    {
     "data": {
      "text/plain": [
       "Graduate         3128\n",
       "High School      2013\n",
       "Unknown          1519\n",
       "Uneducated       1487\n",
       "College          1013\n",
       "Post-Graduate     516\n",
       "Doctorate         451\n",
       "Name: Education_Level, dtype: int64"
      ]
     },
     "execution_count": 10,
     "metadata": {},
     "output_type": "execute_result"
    }
   ],
   "source": [
    "data['Education_Level'].value_counts()"
   ]
  },
  {
   "cell_type": "code",
   "execution_count": 11,
   "metadata": {},
   "outputs": [
    {
     "data": {
      "text/plain": [
       "Married     4687\n",
       "Single      3943\n",
       "Unknown      749\n",
       "Divorced     748\n",
       "Name: Marital_Status, dtype: int64"
      ]
     },
     "execution_count": 11,
     "metadata": {},
     "output_type": "execute_result"
    }
   ],
   "source": [
    "data['Marital_Status'].value_counts()"
   ]
  },
  {
   "cell_type": "code",
   "execution_count": 12,
   "metadata": {},
   "outputs": [
    {
     "data": {
      "text/plain": [
       "Less than $40K    3561\n",
       "$40K - $60K       1790\n",
       "$80K - $120K      1535\n",
       "$60K - $80K       1402\n",
       "Unknown           1112\n",
       "$120K +            727\n",
       "Name: Income_Category, dtype: int64"
      ]
     },
     "execution_count": 12,
     "metadata": {},
     "output_type": "execute_result"
    }
   ],
   "source": [
    "data['Income_Category'].value_counts()"
   ]
  },
  {
   "cell_type": "code",
   "execution_count": 13,
   "metadata": {},
   "outputs": [
    {
     "data": {
      "text/plain": [
       "Blue        9436\n",
       "Silver       555\n",
       "Gold         116\n",
       "Platinum      20\n",
       "Name: Card_Category, dtype: int64"
      ]
     },
     "execution_count": 13,
     "metadata": {},
     "output_type": "execute_result"
    }
   ],
   "source": [
    "data['Card_Category'].value_counts()"
   ]
  },
  {
   "cell_type": "code",
   "execution_count": 14,
   "metadata": {},
   "outputs": [],
   "source": [
    "copy = data"
   ]
  },
  {
   "cell_type": "code",
   "execution_count": 15,
   "metadata": {},
   "outputs": [],
   "source": [
    "copy['Attrition_Flag'] = copy['Attrition_Flag'].astype('category')"
   ]
  },
  {
   "cell_type": "code",
   "execution_count": 16,
   "metadata": {},
   "outputs": [],
   "source": [
    "copy['Gender'] = copy['Gender'].astype('category')\n",
    "copy['Education_Level'] = copy['Education_Level'].astype('category')\n",
    "copy['Marital_Status'] = copy['Marital_Status'].astype('category')\n",
    "copy['Income_Category'] = copy['Income_Category'].astype('category')\n",
    "copy['Card_Category'] = copy['Card_Category'].astype('category')"
   ]
  },
  {
   "cell_type": "code",
   "execution_count": 17,
   "metadata": {},
   "outputs": [],
   "source": [
    "copy['Attrition_Flag'] = copy['Attrition_Flag'].cat.codes\n",
    "copy['Gender'] = copy['Gender'].cat.codes\n",
    "copy['Education_Level'] = copy['Education_Level'].cat.codes\n",
    "copy['Marital_Status'] = copy['Marital_Status'].cat.codes\n",
    "copy['Income_Category'] = copy['Income_Category'].cat.codes\n",
    "copy['Card_Category'] = copy['Card_Category'].cat.codes"
   ]
  },
  {
   "cell_type": "code",
   "execution_count": 18,
   "metadata": {},
   "outputs": [
    {
     "data": {
      "text/plain": [
       "1    8500\n",
       "0    1627\n",
       "Name: Attrition_Flag, dtype: int64"
      ]
     },
     "execution_count": 18,
     "metadata": {},
     "output_type": "execute_result"
    }
   ],
   "source": [
    "copy['Attrition_Flag'].value_counts()"
   ]
  },
  {
   "cell_type": "code",
   "execution_count": 19,
   "metadata": {},
   "outputs": [
    {
     "data": {
      "text/plain": [
       "0    5358\n",
       "1    4769\n",
       "Name: Gender, dtype: int64"
      ]
     },
     "execution_count": 19,
     "metadata": {},
     "output_type": "execute_result"
    }
   ],
   "source": [
    "copy['Gender'].value_counts()"
   ]
  },
  {
   "cell_type": "code",
   "execution_count": 20,
   "metadata": {},
   "outputs": [
    {
     "data": {
      "text/plain": [
       "2    3128\n",
       "3    2013\n",
       "6    1519\n",
       "5    1487\n",
       "0    1013\n",
       "4     516\n",
       "1     451\n",
       "Name: Education_Level, dtype: int64"
      ]
     },
     "execution_count": 20,
     "metadata": {},
     "output_type": "execute_result"
    }
   ],
   "source": [
    "copy['Education_Level'].value_counts()"
   ]
  },
  {
   "cell_type": "code",
   "execution_count": 21,
   "metadata": {},
   "outputs": [
    {
     "data": {
      "text/plain": [
       "1    4687\n",
       "2    3943\n",
       "3     749\n",
       "0     748\n",
       "Name: Marital_Status, dtype: int64"
      ]
     },
     "execution_count": 21,
     "metadata": {},
     "output_type": "execute_result"
    }
   ],
   "source": [
    "copy['Marital_Status'].value_counts()"
   ]
  },
  {
   "cell_type": "code",
   "execution_count": 22,
   "metadata": {},
   "outputs": [
    {
     "data": {
      "text/plain": [
       "4    3561\n",
       "1    1790\n",
       "3    1535\n",
       "2    1402\n",
       "5    1112\n",
       "0     727\n",
       "Name: Income_Category, dtype: int64"
      ]
     },
     "execution_count": 22,
     "metadata": {},
     "output_type": "execute_result"
    }
   ],
   "source": [
    "copy['Income_Category'].value_counts()"
   ]
  },
  {
   "cell_type": "code",
   "execution_count": 23,
   "metadata": {},
   "outputs": [
    {
     "data": {
      "text/plain": [
       "0    9436\n",
       "3     555\n",
       "1     116\n",
       "2      20\n",
       "Name: Card_Category, dtype: int64"
      ]
     },
     "execution_count": 23,
     "metadata": {},
     "output_type": "execute_result"
    }
   ],
   "source": [
    "copy['Card_Category'].value_counts()"
   ]
  },
  {
   "cell_type": "code",
   "execution_count": 24,
   "metadata": {},
   "outputs": [
    {
     "data": {
      "text/html": [
       "<div>\n",
       "<style scoped>\n",
       "    .dataframe tbody tr th:only-of-type {\n",
       "        vertical-align: middle;\n",
       "    }\n",
       "\n",
       "    .dataframe tbody tr th {\n",
       "        vertical-align: top;\n",
       "    }\n",
       "\n",
       "    .dataframe thead th {\n",
       "        text-align: right;\n",
       "    }\n",
       "</style>\n",
       "<table border=\"1\" class=\"dataframe\">\n",
       "  <thead>\n",
       "    <tr style=\"text-align: right;\">\n",
       "      <th></th>\n",
       "      <th>CLIENTNUM</th>\n",
       "      <th>Attrition_Flag</th>\n",
       "      <th>Customer_Age</th>\n",
       "      <th>Gender</th>\n",
       "      <th>Dependent_count</th>\n",
       "      <th>Education_Level</th>\n",
       "      <th>Marital_Status</th>\n",
       "      <th>Income_Category</th>\n",
       "      <th>Card_Category</th>\n",
       "      <th>Months_on_book</th>\n",
       "      <th>...</th>\n",
       "      <th>Months_Inactive_12_mon</th>\n",
       "      <th>Contacts_Count_12_mon</th>\n",
       "      <th>Credit_Limit</th>\n",
       "      <th>Total_Revolving_Bal</th>\n",
       "      <th>Avg_Open_To_Buy</th>\n",
       "      <th>Total_Amt_Chng_Q4_Q1</th>\n",
       "      <th>Total_Trans_Amt</th>\n",
       "      <th>Total_Trans_Ct</th>\n",
       "      <th>Total_Ct_Chng_Q4_Q1</th>\n",
       "      <th>Avg_Utilization_Ratio</th>\n",
       "    </tr>\n",
       "  </thead>\n",
       "  <tbody>\n",
       "    <tr>\n",
       "      <th>0</th>\n",
       "      <td>768805383</td>\n",
       "      <td>1</td>\n",
       "      <td>45</td>\n",
       "      <td>1</td>\n",
       "      <td>3</td>\n",
       "      <td>3</td>\n",
       "      <td>1</td>\n",
       "      <td>2</td>\n",
       "      <td>0</td>\n",
       "      <td>39</td>\n",
       "      <td>...</td>\n",
       "      <td>1</td>\n",
       "      <td>3</td>\n",
       "      <td>12691.0</td>\n",
       "      <td>777</td>\n",
       "      <td>11914.0</td>\n",
       "      <td>1.335</td>\n",
       "      <td>1144</td>\n",
       "      <td>42</td>\n",
       "      <td>1.625</td>\n",
       "      <td>0.061</td>\n",
       "    </tr>\n",
       "    <tr>\n",
       "      <th>1</th>\n",
       "      <td>818770008</td>\n",
       "      <td>1</td>\n",
       "      <td>49</td>\n",
       "      <td>0</td>\n",
       "      <td>5</td>\n",
       "      <td>2</td>\n",
       "      <td>2</td>\n",
       "      <td>4</td>\n",
       "      <td>0</td>\n",
       "      <td>44</td>\n",
       "      <td>...</td>\n",
       "      <td>1</td>\n",
       "      <td>2</td>\n",
       "      <td>8256.0</td>\n",
       "      <td>864</td>\n",
       "      <td>7392.0</td>\n",
       "      <td>1.541</td>\n",
       "      <td>1291</td>\n",
       "      <td>33</td>\n",
       "      <td>3.714</td>\n",
       "      <td>0.105</td>\n",
       "    </tr>\n",
       "    <tr>\n",
       "      <th>2</th>\n",
       "      <td>713982108</td>\n",
       "      <td>1</td>\n",
       "      <td>51</td>\n",
       "      <td>1</td>\n",
       "      <td>3</td>\n",
       "      <td>2</td>\n",
       "      <td>1</td>\n",
       "      <td>3</td>\n",
       "      <td>0</td>\n",
       "      <td>36</td>\n",
       "      <td>...</td>\n",
       "      <td>1</td>\n",
       "      <td>0</td>\n",
       "      <td>3418.0</td>\n",
       "      <td>0</td>\n",
       "      <td>3418.0</td>\n",
       "      <td>2.594</td>\n",
       "      <td>1887</td>\n",
       "      <td>20</td>\n",
       "      <td>2.333</td>\n",
       "      <td>0.000</td>\n",
       "    </tr>\n",
       "    <tr>\n",
       "      <th>3</th>\n",
       "      <td>769911858</td>\n",
       "      <td>1</td>\n",
       "      <td>40</td>\n",
       "      <td>0</td>\n",
       "      <td>4</td>\n",
       "      <td>3</td>\n",
       "      <td>3</td>\n",
       "      <td>4</td>\n",
       "      <td>0</td>\n",
       "      <td>34</td>\n",
       "      <td>...</td>\n",
       "      <td>4</td>\n",
       "      <td>1</td>\n",
       "      <td>3313.0</td>\n",
       "      <td>2517</td>\n",
       "      <td>796.0</td>\n",
       "      <td>1.405</td>\n",
       "      <td>1171</td>\n",
       "      <td>20</td>\n",
       "      <td>2.333</td>\n",
       "      <td>0.760</td>\n",
       "    </tr>\n",
       "    <tr>\n",
       "      <th>4</th>\n",
       "      <td>709106358</td>\n",
       "      <td>1</td>\n",
       "      <td>40</td>\n",
       "      <td>1</td>\n",
       "      <td>3</td>\n",
       "      <td>5</td>\n",
       "      <td>1</td>\n",
       "      <td>2</td>\n",
       "      <td>0</td>\n",
       "      <td>21</td>\n",
       "      <td>...</td>\n",
       "      <td>1</td>\n",
       "      <td>0</td>\n",
       "      <td>4716.0</td>\n",
       "      <td>0</td>\n",
       "      <td>4716.0</td>\n",
       "      <td>2.175</td>\n",
       "      <td>816</td>\n",
       "      <td>28</td>\n",
       "      <td>2.500</td>\n",
       "      <td>0.000</td>\n",
       "    </tr>\n",
       "  </tbody>\n",
       "</table>\n",
       "<p>5 rows × 21 columns</p>\n",
       "</div>"
      ],
      "text/plain": [
       "   CLIENTNUM  Attrition_Flag  Customer_Age  Gender  Dependent_count  \\\n",
       "0  768805383               1            45       1                3   \n",
       "1  818770008               1            49       0                5   \n",
       "2  713982108               1            51       1                3   \n",
       "3  769911858               1            40       0                4   \n",
       "4  709106358               1            40       1                3   \n",
       "\n",
       "   Education_Level  Marital_Status  Income_Category  Card_Category  \\\n",
       "0                3               1                2              0   \n",
       "1                2               2                4              0   \n",
       "2                2               1                3              0   \n",
       "3                3               3                4              0   \n",
       "4                5               1                2              0   \n",
       "\n",
       "   Months_on_book  ...  Months_Inactive_12_mon  Contacts_Count_12_mon  \\\n",
       "0              39  ...                       1                      3   \n",
       "1              44  ...                       1                      2   \n",
       "2              36  ...                       1                      0   \n",
       "3              34  ...                       4                      1   \n",
       "4              21  ...                       1                      0   \n",
       "\n",
       "   Credit_Limit  Total_Revolving_Bal  Avg_Open_To_Buy  Total_Amt_Chng_Q4_Q1  \\\n",
       "0       12691.0                  777          11914.0                 1.335   \n",
       "1        8256.0                  864           7392.0                 1.541   \n",
       "2        3418.0                    0           3418.0                 2.594   \n",
       "3        3313.0                 2517            796.0                 1.405   \n",
       "4        4716.0                    0           4716.0                 2.175   \n",
       "\n",
       "   Total_Trans_Amt  Total_Trans_Ct  Total_Ct_Chng_Q4_Q1  Avg_Utilization_Ratio  \n",
       "0             1144              42                1.625                  0.061  \n",
       "1             1291              33                3.714                  0.105  \n",
       "2             1887              20                2.333                  0.000  \n",
       "3             1171              20                2.333                  0.760  \n",
       "4              816              28                2.500                  0.000  \n",
       "\n",
       "[5 rows x 21 columns]"
      ]
     },
     "execution_count": 24,
     "metadata": {},
     "output_type": "execute_result"
    }
   ],
   "source": [
    "copy.head()"
   ]
  },
  {
   "cell_type": "code",
   "execution_count": 25,
   "metadata": {},
   "outputs": [
    {
     "data": {
      "text/html": [
       "<div>\n",
       "<style scoped>\n",
       "    .dataframe tbody tr th:only-of-type {\n",
       "        vertical-align: middle;\n",
       "    }\n",
       "\n",
       "    .dataframe tbody tr th {\n",
       "        vertical-align: top;\n",
       "    }\n",
       "\n",
       "    .dataframe thead th {\n",
       "        text-align: right;\n",
       "    }\n",
       "</style>\n",
       "<table border=\"1\" class=\"dataframe\">\n",
       "  <thead>\n",
       "    <tr style=\"text-align: right;\">\n",
       "      <th></th>\n",
       "      <th>CLIENTNUM</th>\n",
       "      <th>Customer_Age</th>\n",
       "      <th>Gender</th>\n",
       "      <th>Dependent_count</th>\n",
       "      <th>Education_Level</th>\n",
       "      <th>Marital_Status</th>\n",
       "      <th>Income_Category</th>\n",
       "      <th>Card_Category</th>\n",
       "      <th>Months_on_book</th>\n",
       "      <th>Total_Relationship_Count</th>\n",
       "      <th>...</th>\n",
       "      <th>Contacts_Count_12_mon</th>\n",
       "      <th>Credit_Limit</th>\n",
       "      <th>Total_Revolving_Bal</th>\n",
       "      <th>Avg_Open_To_Buy</th>\n",
       "      <th>Total_Amt_Chng_Q4_Q1</th>\n",
       "      <th>Total_Trans_Amt</th>\n",
       "      <th>Total_Trans_Ct</th>\n",
       "      <th>Total_Ct_Chng_Q4_Q1</th>\n",
       "      <th>Avg_Utilization_Ratio</th>\n",
       "      <th>Attrition_Flag</th>\n",
       "    </tr>\n",
       "  </thead>\n",
       "  <tbody>\n",
       "    <tr>\n",
       "      <th>0</th>\n",
       "      <td>768805383</td>\n",
       "      <td>45</td>\n",
       "      <td>1</td>\n",
       "      <td>3</td>\n",
       "      <td>3</td>\n",
       "      <td>1</td>\n",
       "      <td>2</td>\n",
       "      <td>0</td>\n",
       "      <td>39</td>\n",
       "      <td>5</td>\n",
       "      <td>...</td>\n",
       "      <td>3</td>\n",
       "      <td>12691.0</td>\n",
       "      <td>777</td>\n",
       "      <td>11914.0</td>\n",
       "      <td>1.335</td>\n",
       "      <td>1144</td>\n",
       "      <td>42</td>\n",
       "      <td>1.625</td>\n",
       "      <td>0.061</td>\n",
       "      <td>1</td>\n",
       "    </tr>\n",
       "    <tr>\n",
       "      <th>1</th>\n",
       "      <td>818770008</td>\n",
       "      <td>49</td>\n",
       "      <td>0</td>\n",
       "      <td>5</td>\n",
       "      <td>2</td>\n",
       "      <td>2</td>\n",
       "      <td>4</td>\n",
       "      <td>0</td>\n",
       "      <td>44</td>\n",
       "      <td>6</td>\n",
       "      <td>...</td>\n",
       "      <td>2</td>\n",
       "      <td>8256.0</td>\n",
       "      <td>864</td>\n",
       "      <td>7392.0</td>\n",
       "      <td>1.541</td>\n",
       "      <td>1291</td>\n",
       "      <td>33</td>\n",
       "      <td>3.714</td>\n",
       "      <td>0.105</td>\n",
       "      <td>1</td>\n",
       "    </tr>\n",
       "    <tr>\n",
       "      <th>2</th>\n",
       "      <td>713982108</td>\n",
       "      <td>51</td>\n",
       "      <td>1</td>\n",
       "      <td>3</td>\n",
       "      <td>2</td>\n",
       "      <td>1</td>\n",
       "      <td>3</td>\n",
       "      <td>0</td>\n",
       "      <td>36</td>\n",
       "      <td>4</td>\n",
       "      <td>...</td>\n",
       "      <td>0</td>\n",
       "      <td>3418.0</td>\n",
       "      <td>0</td>\n",
       "      <td>3418.0</td>\n",
       "      <td>2.594</td>\n",
       "      <td>1887</td>\n",
       "      <td>20</td>\n",
       "      <td>2.333</td>\n",
       "      <td>0.000</td>\n",
       "      <td>1</td>\n",
       "    </tr>\n",
       "    <tr>\n",
       "      <th>3</th>\n",
       "      <td>769911858</td>\n",
       "      <td>40</td>\n",
       "      <td>0</td>\n",
       "      <td>4</td>\n",
       "      <td>3</td>\n",
       "      <td>3</td>\n",
       "      <td>4</td>\n",
       "      <td>0</td>\n",
       "      <td>34</td>\n",
       "      <td>3</td>\n",
       "      <td>...</td>\n",
       "      <td>1</td>\n",
       "      <td>3313.0</td>\n",
       "      <td>2517</td>\n",
       "      <td>796.0</td>\n",
       "      <td>1.405</td>\n",
       "      <td>1171</td>\n",
       "      <td>20</td>\n",
       "      <td>2.333</td>\n",
       "      <td>0.760</td>\n",
       "      <td>1</td>\n",
       "    </tr>\n",
       "    <tr>\n",
       "      <th>4</th>\n",
       "      <td>709106358</td>\n",
       "      <td>40</td>\n",
       "      <td>1</td>\n",
       "      <td>3</td>\n",
       "      <td>5</td>\n",
       "      <td>1</td>\n",
       "      <td>2</td>\n",
       "      <td>0</td>\n",
       "      <td>21</td>\n",
       "      <td>5</td>\n",
       "      <td>...</td>\n",
       "      <td>0</td>\n",
       "      <td>4716.0</td>\n",
       "      <td>0</td>\n",
       "      <td>4716.0</td>\n",
       "      <td>2.175</td>\n",
       "      <td>816</td>\n",
       "      <td>28</td>\n",
       "      <td>2.500</td>\n",
       "      <td>0.000</td>\n",
       "      <td>1</td>\n",
       "    </tr>\n",
       "  </tbody>\n",
       "</table>\n",
       "<p>5 rows × 21 columns</p>\n",
       "</div>"
      ],
      "text/plain": [
       "   CLIENTNUM  Customer_Age  Gender  Dependent_count  Education_Level  \\\n",
       "0  768805383            45       1                3                3   \n",
       "1  818770008            49       0                5                2   \n",
       "2  713982108            51       1                3                2   \n",
       "3  769911858            40       0                4                3   \n",
       "4  709106358            40       1                3                5   \n",
       "\n",
       "   Marital_Status  Income_Category  Card_Category  Months_on_book  \\\n",
       "0               1                2              0              39   \n",
       "1               2                4              0              44   \n",
       "2               1                3              0              36   \n",
       "3               3                4              0              34   \n",
       "4               1                2              0              21   \n",
       "\n",
       "   Total_Relationship_Count  ...  Contacts_Count_12_mon  Credit_Limit  \\\n",
       "0                         5  ...                      3       12691.0   \n",
       "1                         6  ...                      2        8256.0   \n",
       "2                         4  ...                      0        3418.0   \n",
       "3                         3  ...                      1        3313.0   \n",
       "4                         5  ...                      0        4716.0   \n",
       "\n",
       "   Total_Revolving_Bal  Avg_Open_To_Buy  Total_Amt_Chng_Q4_Q1  \\\n",
       "0                  777          11914.0                 1.335   \n",
       "1                  864           7392.0                 1.541   \n",
       "2                    0           3418.0                 2.594   \n",
       "3                 2517            796.0                 1.405   \n",
       "4                    0           4716.0                 2.175   \n",
       "\n",
       "   Total_Trans_Amt  Total_Trans_Ct  Total_Ct_Chng_Q4_Q1  \\\n",
       "0             1144              42                1.625   \n",
       "1             1291              33                3.714   \n",
       "2             1887              20                2.333   \n",
       "3             1171              20                2.333   \n",
       "4              816              28                2.500   \n",
       "\n",
       "   Avg_Utilization_Ratio  Attrition_Flag  \n",
       "0                  0.061               1  \n",
       "1                  0.105               1  \n",
       "2                  0.000               1  \n",
       "3                  0.760               1  \n",
       "4                  0.000               1  \n",
       "\n",
       "[5 rows x 21 columns]"
      ]
     },
     "execution_count": 25,
     "metadata": {},
     "output_type": "execute_result"
    }
   ],
   "source": [
    "temp = list(copy['Attrition_Flag'])\n",
    "copy = copy.drop(columns=['Attrition_Flag'])\n",
    "copy['Attrition_Flag'] = temp\n",
    "copy.head(5)"
   ]
  },
  {
   "cell_type": "code",
   "execution_count": 26,
   "metadata": {},
   "outputs": [
    {
     "data": {
      "text/html": [
       "<div>\n",
       "<style scoped>\n",
       "    .dataframe tbody tr th:only-of-type {\n",
       "        vertical-align: middle;\n",
       "    }\n",
       "\n",
       "    .dataframe tbody tr th {\n",
       "        vertical-align: top;\n",
       "    }\n",
       "\n",
       "    .dataframe thead th {\n",
       "        text-align: right;\n",
       "    }\n",
       "</style>\n",
       "<table border=\"1\" class=\"dataframe\">\n",
       "  <thead>\n",
       "    <tr style=\"text-align: right;\">\n",
       "      <th></th>\n",
       "      <th>CLIENTNUM</th>\n",
       "      <th>Customer_Age</th>\n",
       "      <th>Gender</th>\n",
       "      <th>Dependent_count</th>\n",
       "      <th>Education_Level</th>\n",
       "      <th>Marital_Status</th>\n",
       "      <th>Income_Category</th>\n",
       "      <th>Card_Category</th>\n",
       "      <th>Months_on_book</th>\n",
       "      <th>Total_Relationship_Count</th>\n",
       "      <th>Months_Inactive_12_mon</th>\n",
       "      <th>Contacts_Count_12_mon</th>\n",
       "      <th>Credit_Limit</th>\n",
       "      <th>Total_Revolving_Bal</th>\n",
       "      <th>Avg_Open_To_Buy</th>\n",
       "      <th>Total_Amt_Chng_Q4_Q1</th>\n",
       "      <th>Total_Trans_Amt</th>\n",
       "      <th>Total_Trans_Ct</th>\n",
       "      <th>Total_Ct_Chng_Q4_Q1</th>\n",
       "      <th>Avg_Utilization_Ratio</th>\n",
       "      <th>Attrition_Flag</th>\n",
       "    </tr>\n",
       "  </thead>\n",
       "  <tbody>\n",
       "    <tr>\n",
       "      <th>CLIENTNUM</th>\n",
       "      <td>1.000000</td>\n",
       "      <td>0.007613</td>\n",
       "      <td>0.020188</td>\n",
       "      <td>0.006772</td>\n",
       "      <td>-0.003789</td>\n",
       "      <td>-0.003284</td>\n",
       "      <td>-0.025802</td>\n",
       "      <td>0.007511</td>\n",
       "      <td>0.134588</td>\n",
       "      <td>0.006907</td>\n",
       "      <td>0.005729</td>\n",
       "      <td>0.005694</td>\n",
       "      <td>0.005708</td>\n",
       "      <td>0.000825</td>\n",
       "      <td>0.005633</td>\n",
       "      <td>0.017369</td>\n",
       "      <td>-0.019692</td>\n",
       "      <td>-0.002961</td>\n",
       "      <td>0.007696</td>\n",
       "      <td>0.000266</td>\n",
       "      <td>0.046430</td>\n",
       "    </tr>\n",
       "    <tr>\n",
       "      <th>Customer_Age</th>\n",
       "      <td>0.007613</td>\n",
       "      <td>1.000000</td>\n",
       "      <td>-0.017312</td>\n",
       "      <td>-0.122254</td>\n",
       "      <td>0.004083</td>\n",
       "      <td>-0.011265</td>\n",
       "      <td>-0.013474</td>\n",
       "      <td>-0.020131</td>\n",
       "      <td>0.788912</td>\n",
       "      <td>-0.010931</td>\n",
       "      <td>0.054361</td>\n",
       "      <td>-0.018452</td>\n",
       "      <td>0.002476</td>\n",
       "      <td>0.014780</td>\n",
       "      <td>0.001151</td>\n",
       "      <td>-0.062042</td>\n",
       "      <td>-0.046446</td>\n",
       "      <td>-0.067097</td>\n",
       "      <td>-0.012143</td>\n",
       "      <td>0.007114</td>\n",
       "      <td>-0.018203</td>\n",
       "    </tr>\n",
       "    <tr>\n",
       "      <th>Gender</th>\n",
       "      <td>0.020188</td>\n",
       "      <td>-0.017312</td>\n",
       "      <td>1.000000</td>\n",
       "      <td>0.004563</td>\n",
       "      <td>0.000694</td>\n",
       "      <td>-0.000007</td>\n",
       "      <td>-0.539731</td>\n",
       "      <td>0.079203</td>\n",
       "      <td>-0.006728</td>\n",
       "      <td>0.003157</td>\n",
       "      <td>-0.011163</td>\n",
       "      <td>0.039987</td>\n",
       "      <td>0.420806</td>\n",
       "      <td>0.029658</td>\n",
       "      <td>0.418059</td>\n",
       "      <td>0.026712</td>\n",
       "      <td>0.024890</td>\n",
       "      <td>-0.067454</td>\n",
       "      <td>-0.005800</td>\n",
       "      <td>-0.257851</td>\n",
       "      <td>0.037272</td>\n",
       "    </tr>\n",
       "    <tr>\n",
       "      <th>Dependent_count</th>\n",
       "      <td>0.006772</td>\n",
       "      <td>-0.122254</td>\n",
       "      <td>0.004563</td>\n",
       "      <td>1.000000</td>\n",
       "      <td>0.003788</td>\n",
       "      <td>0.000337</td>\n",
       "      <td>-0.035417</td>\n",
       "      <td>0.021674</td>\n",
       "      <td>-0.103062</td>\n",
       "      <td>-0.039076</td>\n",
       "      <td>-0.010768</td>\n",
       "      <td>-0.040505</td>\n",
       "      <td>0.068065</td>\n",
       "      <td>-0.002688</td>\n",
       "      <td>0.068291</td>\n",
       "      <td>-0.035439</td>\n",
       "      <td>0.025046</td>\n",
       "      <td>0.049912</td>\n",
       "      <td>0.011087</td>\n",
       "      <td>-0.037135</td>\n",
       "      <td>-0.018991</td>\n",
       "    </tr>\n",
       "    <tr>\n",
       "      <th>Education_Level</th>\n",
       "      <td>-0.003789</td>\n",
       "      <td>0.004083</td>\n",
       "      <td>0.000694</td>\n",
       "      <td>0.003788</td>\n",
       "      <td>1.000000</td>\n",
       "      <td>0.014720</td>\n",
       "      <td>-0.010442</td>\n",
       "      <td>-0.007212</td>\n",
       "      <td>-0.004953</td>\n",
       "      <td>0.009636</td>\n",
       "      <td>-0.008077</td>\n",
       "      <td>0.008500</td>\n",
       "      <td>0.003076</td>\n",
       "      <td>0.008029</td>\n",
       "      <td>0.002356</td>\n",
       "      <td>0.005534</td>\n",
       "      <td>0.015287</td>\n",
       "      <td>0.003046</td>\n",
       "      <td>0.007279</td>\n",
       "      <td>0.006477</td>\n",
       "      <td>-0.005551</td>\n",
       "    </tr>\n",
       "    <tr>\n",
       "      <th>Marital_Status</th>\n",
       "      <td>-0.003284</td>\n",
       "      <td>-0.011265</td>\n",
       "      <td>-0.000007</td>\n",
       "      <td>0.000337</td>\n",
       "      <td>0.014720</td>\n",
       "      <td>1.000000</td>\n",
       "      <td>0.009659</td>\n",
       "      <td>0.035947</td>\n",
       "      <td>-0.012084</td>\n",
       "      <td>-0.021393</td>\n",
       "      <td>0.001709</td>\n",
       "      <td>0.001476</td>\n",
       "      <td>0.031292</td>\n",
       "      <td>-0.025386</td>\n",
       "      <td>0.033562</td>\n",
       "      <td>-0.036210</td>\n",
       "      <td>0.044553</td>\n",
       "      <td>0.075888</td>\n",
       "      <td>0.000258</td>\n",
       "      <td>-0.027451</td>\n",
       "      <td>-0.018597</td>\n",
       "    </tr>\n",
       "    <tr>\n",
       "      <th>Income_Category</th>\n",
       "      <td>-0.025802</td>\n",
       "      <td>-0.013474</td>\n",
       "      <td>-0.539731</td>\n",
       "      <td>-0.035417</td>\n",
       "      <td>-0.010442</td>\n",
       "      <td>0.009659</td>\n",
       "      <td>1.000000</td>\n",
       "      <td>-0.051632</td>\n",
       "      <td>-0.016375</td>\n",
       "      <td>0.008138</td>\n",
       "      <td>0.024037</td>\n",
       "      <td>-0.018367</td>\n",
       "      <td>-0.225394</td>\n",
       "      <td>-0.025815</td>\n",
       "      <td>-0.223033</td>\n",
       "      <td>-0.004534</td>\n",
       "      <td>-0.014686</td>\n",
       "      <td>0.033498</td>\n",
       "      <td>0.014892</td>\n",
       "      <td>0.123287</td>\n",
       "      <td>-0.017584</td>\n",
       "    </tr>\n",
       "    <tr>\n",
       "      <th>Card_Category</th>\n",
       "      <td>0.007511</td>\n",
       "      <td>-0.020131</td>\n",
       "      <td>0.079203</td>\n",
       "      <td>0.021674</td>\n",
       "      <td>-0.007212</td>\n",
       "      <td>0.035947</td>\n",
       "      <td>-0.051632</td>\n",
       "      <td>1.000000</td>\n",
       "      <td>-0.014749</td>\n",
       "      <td>-0.073770</td>\n",
       "      <td>-0.016816</td>\n",
       "      <td>-0.000919</td>\n",
       "      <td>0.484090</td>\n",
       "      <td>0.017027</td>\n",
       "      <td>0.482462</td>\n",
       "      <td>0.004061</td>\n",
       "      <td>0.176377</td>\n",
       "      <td>0.116579</td>\n",
       "      <td>-0.004541</td>\n",
       "      <td>-0.205089</td>\n",
       "      <td>0.006038</td>\n",
       "    </tr>\n",
       "    <tr>\n",
       "      <th>Months_on_book</th>\n",
       "      <td>0.134588</td>\n",
       "      <td>0.788912</td>\n",
       "      <td>-0.006728</td>\n",
       "      <td>-0.103062</td>\n",
       "      <td>-0.004953</td>\n",
       "      <td>-0.012084</td>\n",
       "      <td>-0.016375</td>\n",
       "      <td>-0.014749</td>\n",
       "      <td>1.000000</td>\n",
       "      <td>-0.009203</td>\n",
       "      <td>0.074164</td>\n",
       "      <td>-0.010774</td>\n",
       "      <td>0.007507</td>\n",
       "      <td>0.008623</td>\n",
       "      <td>0.006732</td>\n",
       "      <td>-0.048959</td>\n",
       "      <td>-0.038591</td>\n",
       "      <td>-0.049819</td>\n",
       "      <td>-0.014072</td>\n",
       "      <td>-0.007541</td>\n",
       "      <td>-0.013687</td>\n",
       "    </tr>\n",
       "    <tr>\n",
       "      <th>Total_Relationship_Count</th>\n",
       "      <td>0.006907</td>\n",
       "      <td>-0.010931</td>\n",
       "      <td>0.003157</td>\n",
       "      <td>-0.039076</td>\n",
       "      <td>0.009636</td>\n",
       "      <td>-0.021393</td>\n",
       "      <td>0.008138</td>\n",
       "      <td>-0.073770</td>\n",
       "      <td>-0.009203</td>\n",
       "      <td>1.000000</td>\n",
       "      <td>-0.003675</td>\n",
       "      <td>0.055203</td>\n",
       "      <td>-0.071386</td>\n",
       "      <td>0.013726</td>\n",
       "      <td>-0.072601</td>\n",
       "      <td>0.050119</td>\n",
       "      <td>-0.347229</td>\n",
       "      <td>-0.241891</td>\n",
       "      <td>0.040831</td>\n",
       "      <td>0.067663</td>\n",
       "      <td>0.150005</td>\n",
       "    </tr>\n",
       "    <tr>\n",
       "      <th>Months_Inactive_12_mon</th>\n",
       "      <td>0.005729</td>\n",
       "      <td>0.054361</td>\n",
       "      <td>-0.011163</td>\n",
       "      <td>-0.010768</td>\n",
       "      <td>-0.008077</td>\n",
       "      <td>0.001709</td>\n",
       "      <td>0.024037</td>\n",
       "      <td>-0.016816</td>\n",
       "      <td>0.074164</td>\n",
       "      <td>-0.003675</td>\n",
       "      <td>1.000000</td>\n",
       "      <td>0.029493</td>\n",
       "      <td>-0.020394</td>\n",
       "      <td>-0.042210</td>\n",
       "      <td>-0.016605</td>\n",
       "      <td>-0.032247</td>\n",
       "      <td>-0.036982</td>\n",
       "      <td>-0.042787</td>\n",
       "      <td>-0.038989</td>\n",
       "      <td>-0.007503</td>\n",
       "      <td>-0.152449</td>\n",
       "    </tr>\n",
       "    <tr>\n",
       "      <th>Contacts_Count_12_mon</th>\n",
       "      <td>0.005694</td>\n",
       "      <td>-0.018452</td>\n",
       "      <td>0.039987</td>\n",
       "      <td>-0.040505</td>\n",
       "      <td>0.008500</td>\n",
       "      <td>0.001476</td>\n",
       "      <td>-0.018367</td>\n",
       "      <td>-0.000919</td>\n",
       "      <td>-0.010774</td>\n",
       "      <td>0.055203</td>\n",
       "      <td>0.029493</td>\n",
       "      <td>1.000000</td>\n",
       "      <td>0.020817</td>\n",
       "      <td>-0.053913</td>\n",
       "      <td>0.025646</td>\n",
       "      <td>-0.024445</td>\n",
       "      <td>-0.112774</td>\n",
       "      <td>-0.152213</td>\n",
       "      <td>-0.094997</td>\n",
       "      <td>-0.055471</td>\n",
       "      <td>-0.204491</td>\n",
       "    </tr>\n",
       "    <tr>\n",
       "      <th>Credit_Limit</th>\n",
       "      <td>0.005708</td>\n",
       "      <td>0.002476</td>\n",
       "      <td>0.420806</td>\n",
       "      <td>0.068065</td>\n",
       "      <td>0.003076</td>\n",
       "      <td>0.031292</td>\n",
       "      <td>-0.225394</td>\n",
       "      <td>0.484090</td>\n",
       "      <td>0.007507</td>\n",
       "      <td>-0.071386</td>\n",
       "      <td>-0.020394</td>\n",
       "      <td>0.020817</td>\n",
       "      <td>1.000000</td>\n",
       "      <td>0.042493</td>\n",
       "      <td>0.995981</td>\n",
       "      <td>0.012813</td>\n",
       "      <td>0.171730</td>\n",
       "      <td>0.075927</td>\n",
       "      <td>-0.002020</td>\n",
       "      <td>-0.482965</td>\n",
       "      <td>0.023873</td>\n",
       "    </tr>\n",
       "    <tr>\n",
       "      <th>Total_Revolving_Bal</th>\n",
       "      <td>0.000825</td>\n",
       "      <td>0.014780</td>\n",
       "      <td>0.029658</td>\n",
       "      <td>-0.002688</td>\n",
       "      <td>0.008029</td>\n",
       "      <td>-0.025386</td>\n",
       "      <td>-0.025815</td>\n",
       "      <td>0.017027</td>\n",
       "      <td>0.008623</td>\n",
       "      <td>0.013726</td>\n",
       "      <td>-0.042210</td>\n",
       "      <td>-0.053913</td>\n",
       "      <td>0.042493</td>\n",
       "      <td>1.000000</td>\n",
       "      <td>-0.047167</td>\n",
       "      <td>0.058174</td>\n",
       "      <td>0.064370</td>\n",
       "      <td>0.056060</td>\n",
       "      <td>0.089861</td>\n",
       "      <td>0.624022</td>\n",
       "      <td>0.263053</td>\n",
       "    </tr>\n",
       "    <tr>\n",
       "      <th>Avg_Open_To_Buy</th>\n",
       "      <td>0.005633</td>\n",
       "      <td>0.001151</td>\n",
       "      <td>0.418059</td>\n",
       "      <td>0.068291</td>\n",
       "      <td>0.002356</td>\n",
       "      <td>0.033562</td>\n",
       "      <td>-0.223033</td>\n",
       "      <td>0.482462</td>\n",
       "      <td>0.006732</td>\n",
       "      <td>-0.072601</td>\n",
       "      <td>-0.016605</td>\n",
       "      <td>0.025646</td>\n",
       "      <td>0.995981</td>\n",
       "      <td>-0.047167</td>\n",
       "      <td>1.000000</td>\n",
       "      <td>0.007595</td>\n",
       "      <td>0.165923</td>\n",
       "      <td>0.070885</td>\n",
       "      <td>-0.010076</td>\n",
       "      <td>-0.538808</td>\n",
       "      <td>0.000285</td>\n",
       "    </tr>\n",
       "    <tr>\n",
       "      <th>Total_Amt_Chng_Q4_Q1</th>\n",
       "      <td>0.017369</td>\n",
       "      <td>-0.062042</td>\n",
       "      <td>0.026712</td>\n",
       "      <td>-0.035439</td>\n",
       "      <td>0.005534</td>\n",
       "      <td>-0.036210</td>\n",
       "      <td>-0.004534</td>\n",
       "      <td>0.004061</td>\n",
       "      <td>-0.048959</td>\n",
       "      <td>0.050119</td>\n",
       "      <td>-0.032247</td>\n",
       "      <td>-0.024445</td>\n",
       "      <td>0.012813</td>\n",
       "      <td>0.058174</td>\n",
       "      <td>0.007595</td>\n",
       "      <td>1.000000</td>\n",
       "      <td>0.039678</td>\n",
       "      <td>0.005469</td>\n",
       "      <td>0.384189</td>\n",
       "      <td>0.035235</td>\n",
       "      <td>0.131063</td>\n",
       "    </tr>\n",
       "    <tr>\n",
       "      <th>Total_Trans_Amt</th>\n",
       "      <td>-0.019692</td>\n",
       "      <td>-0.046446</td>\n",
       "      <td>0.024890</td>\n",
       "      <td>0.025046</td>\n",
       "      <td>0.015287</td>\n",
       "      <td>0.044553</td>\n",
       "      <td>-0.014686</td>\n",
       "      <td>0.176377</td>\n",
       "      <td>-0.038591</td>\n",
       "      <td>-0.347229</td>\n",
       "      <td>-0.036982</td>\n",
       "      <td>-0.112774</td>\n",
       "      <td>0.171730</td>\n",
       "      <td>0.064370</td>\n",
       "      <td>0.165923</td>\n",
       "      <td>0.039678</td>\n",
       "      <td>1.000000</td>\n",
       "      <td>0.807192</td>\n",
       "      <td>0.085581</td>\n",
       "      <td>-0.083034</td>\n",
       "      <td>0.168598</td>\n",
       "    </tr>\n",
       "    <tr>\n",
       "      <th>Total_Trans_Ct</th>\n",
       "      <td>-0.002961</td>\n",
       "      <td>-0.067097</td>\n",
       "      <td>-0.067454</td>\n",
       "      <td>0.049912</td>\n",
       "      <td>0.003046</td>\n",
       "      <td>0.075888</td>\n",
       "      <td>0.033498</td>\n",
       "      <td>0.116579</td>\n",
       "      <td>-0.049819</td>\n",
       "      <td>-0.241891</td>\n",
       "      <td>-0.042787</td>\n",
       "      <td>-0.152213</td>\n",
       "      <td>0.075927</td>\n",
       "      <td>0.056060</td>\n",
       "      <td>0.070885</td>\n",
       "      <td>0.005469</td>\n",
       "      <td>0.807192</td>\n",
       "      <td>1.000000</td>\n",
       "      <td>0.112324</td>\n",
       "      <td>0.002838</td>\n",
       "      <td>0.371403</td>\n",
       "    </tr>\n",
       "    <tr>\n",
       "      <th>Total_Ct_Chng_Q4_Q1</th>\n",
       "      <td>0.007696</td>\n",
       "      <td>-0.012143</td>\n",
       "      <td>-0.005800</td>\n",
       "      <td>0.011087</td>\n",
       "      <td>0.007279</td>\n",
       "      <td>0.000258</td>\n",
       "      <td>0.014892</td>\n",
       "      <td>-0.004541</td>\n",
       "      <td>-0.014072</td>\n",
       "      <td>0.040831</td>\n",
       "      <td>-0.038989</td>\n",
       "      <td>-0.094997</td>\n",
       "      <td>-0.002020</td>\n",
       "      <td>0.089861</td>\n",
       "      <td>-0.010076</td>\n",
       "      <td>0.384189</td>\n",
       "      <td>0.085581</td>\n",
       "      <td>0.112324</td>\n",
       "      <td>1.000000</td>\n",
       "      <td>0.074143</td>\n",
       "      <td>0.290054</td>\n",
       "    </tr>\n",
       "    <tr>\n",
       "      <th>Avg_Utilization_Ratio</th>\n",
       "      <td>0.000266</td>\n",
       "      <td>0.007114</td>\n",
       "      <td>-0.257851</td>\n",
       "      <td>-0.037135</td>\n",
       "      <td>0.006477</td>\n",
       "      <td>-0.027451</td>\n",
       "      <td>0.123287</td>\n",
       "      <td>-0.205089</td>\n",
       "      <td>-0.007541</td>\n",
       "      <td>0.067663</td>\n",
       "      <td>-0.007503</td>\n",
       "      <td>-0.055471</td>\n",
       "      <td>-0.482965</td>\n",
       "      <td>0.624022</td>\n",
       "      <td>-0.538808</td>\n",
       "      <td>0.035235</td>\n",
       "      <td>-0.083034</td>\n",
       "      <td>0.002838</td>\n",
       "      <td>0.074143</td>\n",
       "      <td>1.000000</td>\n",
       "      <td>0.178410</td>\n",
       "    </tr>\n",
       "    <tr>\n",
       "      <th>Attrition_Flag</th>\n",
       "      <td>0.046430</td>\n",
       "      <td>-0.018203</td>\n",
       "      <td>0.037272</td>\n",
       "      <td>-0.018991</td>\n",
       "      <td>-0.005551</td>\n",
       "      <td>-0.018597</td>\n",
       "      <td>-0.017584</td>\n",
       "      <td>0.006038</td>\n",
       "      <td>-0.013687</td>\n",
       "      <td>0.150005</td>\n",
       "      <td>-0.152449</td>\n",
       "      <td>-0.204491</td>\n",
       "      <td>0.023873</td>\n",
       "      <td>0.263053</td>\n",
       "      <td>0.000285</td>\n",
       "      <td>0.131063</td>\n",
       "      <td>0.168598</td>\n",
       "      <td>0.371403</td>\n",
       "      <td>0.290054</td>\n",
       "      <td>0.178410</td>\n",
       "      <td>1.000000</td>\n",
       "    </tr>\n",
       "  </tbody>\n",
       "</table>\n",
       "</div>"
      ],
      "text/plain": [
       "                          CLIENTNUM  Customer_Age    Gender  Dependent_count  \\\n",
       "CLIENTNUM                  1.000000      0.007613  0.020188         0.006772   \n",
       "Customer_Age               0.007613      1.000000 -0.017312        -0.122254   \n",
       "Gender                     0.020188     -0.017312  1.000000         0.004563   \n",
       "Dependent_count            0.006772     -0.122254  0.004563         1.000000   \n",
       "Education_Level           -0.003789      0.004083  0.000694         0.003788   \n",
       "Marital_Status            -0.003284     -0.011265 -0.000007         0.000337   \n",
       "Income_Category           -0.025802     -0.013474 -0.539731        -0.035417   \n",
       "Card_Category              0.007511     -0.020131  0.079203         0.021674   \n",
       "Months_on_book             0.134588      0.788912 -0.006728        -0.103062   \n",
       "Total_Relationship_Count   0.006907     -0.010931  0.003157        -0.039076   \n",
       "Months_Inactive_12_mon     0.005729      0.054361 -0.011163        -0.010768   \n",
       "Contacts_Count_12_mon      0.005694     -0.018452  0.039987        -0.040505   \n",
       "Credit_Limit               0.005708      0.002476  0.420806         0.068065   \n",
       "Total_Revolving_Bal        0.000825      0.014780  0.029658        -0.002688   \n",
       "Avg_Open_To_Buy            0.005633      0.001151  0.418059         0.068291   \n",
       "Total_Amt_Chng_Q4_Q1       0.017369     -0.062042  0.026712        -0.035439   \n",
       "Total_Trans_Amt           -0.019692     -0.046446  0.024890         0.025046   \n",
       "Total_Trans_Ct            -0.002961     -0.067097 -0.067454         0.049912   \n",
       "Total_Ct_Chng_Q4_Q1        0.007696     -0.012143 -0.005800         0.011087   \n",
       "Avg_Utilization_Ratio      0.000266      0.007114 -0.257851        -0.037135   \n",
       "Attrition_Flag             0.046430     -0.018203  0.037272        -0.018991   \n",
       "\n",
       "                          Education_Level  Marital_Status  Income_Category  \\\n",
       "CLIENTNUM                       -0.003789       -0.003284        -0.025802   \n",
       "Customer_Age                     0.004083       -0.011265        -0.013474   \n",
       "Gender                           0.000694       -0.000007        -0.539731   \n",
       "Dependent_count                  0.003788        0.000337        -0.035417   \n",
       "Education_Level                  1.000000        0.014720        -0.010442   \n",
       "Marital_Status                   0.014720        1.000000         0.009659   \n",
       "Income_Category                 -0.010442        0.009659         1.000000   \n",
       "Card_Category                   -0.007212        0.035947        -0.051632   \n",
       "Months_on_book                  -0.004953       -0.012084        -0.016375   \n",
       "Total_Relationship_Count         0.009636       -0.021393         0.008138   \n",
       "Months_Inactive_12_mon          -0.008077        0.001709         0.024037   \n",
       "Contacts_Count_12_mon            0.008500        0.001476        -0.018367   \n",
       "Credit_Limit                     0.003076        0.031292        -0.225394   \n",
       "Total_Revolving_Bal              0.008029       -0.025386        -0.025815   \n",
       "Avg_Open_To_Buy                  0.002356        0.033562        -0.223033   \n",
       "Total_Amt_Chng_Q4_Q1             0.005534       -0.036210        -0.004534   \n",
       "Total_Trans_Amt                  0.015287        0.044553        -0.014686   \n",
       "Total_Trans_Ct                   0.003046        0.075888         0.033498   \n",
       "Total_Ct_Chng_Q4_Q1              0.007279        0.000258         0.014892   \n",
       "Avg_Utilization_Ratio            0.006477       -0.027451         0.123287   \n",
       "Attrition_Flag                  -0.005551       -0.018597        -0.017584   \n",
       "\n",
       "                          Card_Category  Months_on_book  \\\n",
       "CLIENTNUM                      0.007511        0.134588   \n",
       "Customer_Age                  -0.020131        0.788912   \n",
       "Gender                         0.079203       -0.006728   \n",
       "Dependent_count                0.021674       -0.103062   \n",
       "Education_Level               -0.007212       -0.004953   \n",
       "Marital_Status                 0.035947       -0.012084   \n",
       "Income_Category               -0.051632       -0.016375   \n",
       "Card_Category                  1.000000       -0.014749   \n",
       "Months_on_book                -0.014749        1.000000   \n",
       "Total_Relationship_Count      -0.073770       -0.009203   \n",
       "Months_Inactive_12_mon        -0.016816        0.074164   \n",
       "Contacts_Count_12_mon         -0.000919       -0.010774   \n",
       "Credit_Limit                   0.484090        0.007507   \n",
       "Total_Revolving_Bal            0.017027        0.008623   \n",
       "Avg_Open_To_Buy                0.482462        0.006732   \n",
       "Total_Amt_Chng_Q4_Q1           0.004061       -0.048959   \n",
       "Total_Trans_Amt                0.176377       -0.038591   \n",
       "Total_Trans_Ct                 0.116579       -0.049819   \n",
       "Total_Ct_Chng_Q4_Q1           -0.004541       -0.014072   \n",
       "Avg_Utilization_Ratio         -0.205089       -0.007541   \n",
       "Attrition_Flag                 0.006038       -0.013687   \n",
       "\n",
       "                          Total_Relationship_Count  Months_Inactive_12_mon  \\\n",
       "CLIENTNUM                                 0.006907                0.005729   \n",
       "Customer_Age                             -0.010931                0.054361   \n",
       "Gender                                    0.003157               -0.011163   \n",
       "Dependent_count                          -0.039076               -0.010768   \n",
       "Education_Level                           0.009636               -0.008077   \n",
       "Marital_Status                           -0.021393                0.001709   \n",
       "Income_Category                           0.008138                0.024037   \n",
       "Card_Category                            -0.073770               -0.016816   \n",
       "Months_on_book                           -0.009203                0.074164   \n",
       "Total_Relationship_Count                  1.000000               -0.003675   \n",
       "Months_Inactive_12_mon                   -0.003675                1.000000   \n",
       "Contacts_Count_12_mon                     0.055203                0.029493   \n",
       "Credit_Limit                             -0.071386               -0.020394   \n",
       "Total_Revolving_Bal                       0.013726               -0.042210   \n",
       "Avg_Open_To_Buy                          -0.072601               -0.016605   \n",
       "Total_Amt_Chng_Q4_Q1                      0.050119               -0.032247   \n",
       "Total_Trans_Amt                          -0.347229               -0.036982   \n",
       "Total_Trans_Ct                           -0.241891               -0.042787   \n",
       "Total_Ct_Chng_Q4_Q1                       0.040831               -0.038989   \n",
       "Avg_Utilization_Ratio                     0.067663               -0.007503   \n",
       "Attrition_Flag                            0.150005               -0.152449   \n",
       "\n",
       "                          Contacts_Count_12_mon  Credit_Limit  \\\n",
       "CLIENTNUM                              0.005694      0.005708   \n",
       "Customer_Age                          -0.018452      0.002476   \n",
       "Gender                                 0.039987      0.420806   \n",
       "Dependent_count                       -0.040505      0.068065   \n",
       "Education_Level                        0.008500      0.003076   \n",
       "Marital_Status                         0.001476      0.031292   \n",
       "Income_Category                       -0.018367     -0.225394   \n",
       "Card_Category                         -0.000919      0.484090   \n",
       "Months_on_book                        -0.010774      0.007507   \n",
       "Total_Relationship_Count               0.055203     -0.071386   \n",
       "Months_Inactive_12_mon                 0.029493     -0.020394   \n",
       "Contacts_Count_12_mon                  1.000000      0.020817   \n",
       "Credit_Limit                           0.020817      1.000000   \n",
       "Total_Revolving_Bal                   -0.053913      0.042493   \n",
       "Avg_Open_To_Buy                        0.025646      0.995981   \n",
       "Total_Amt_Chng_Q4_Q1                  -0.024445      0.012813   \n",
       "Total_Trans_Amt                       -0.112774      0.171730   \n",
       "Total_Trans_Ct                        -0.152213      0.075927   \n",
       "Total_Ct_Chng_Q4_Q1                   -0.094997     -0.002020   \n",
       "Avg_Utilization_Ratio                 -0.055471     -0.482965   \n",
       "Attrition_Flag                        -0.204491      0.023873   \n",
       "\n",
       "                          Total_Revolving_Bal  Avg_Open_To_Buy  \\\n",
       "CLIENTNUM                            0.000825         0.005633   \n",
       "Customer_Age                         0.014780         0.001151   \n",
       "Gender                               0.029658         0.418059   \n",
       "Dependent_count                     -0.002688         0.068291   \n",
       "Education_Level                      0.008029         0.002356   \n",
       "Marital_Status                      -0.025386         0.033562   \n",
       "Income_Category                     -0.025815        -0.223033   \n",
       "Card_Category                        0.017027         0.482462   \n",
       "Months_on_book                       0.008623         0.006732   \n",
       "Total_Relationship_Count             0.013726        -0.072601   \n",
       "Months_Inactive_12_mon              -0.042210        -0.016605   \n",
       "Contacts_Count_12_mon               -0.053913         0.025646   \n",
       "Credit_Limit                         0.042493         0.995981   \n",
       "Total_Revolving_Bal                  1.000000        -0.047167   \n",
       "Avg_Open_To_Buy                     -0.047167         1.000000   \n",
       "Total_Amt_Chng_Q4_Q1                 0.058174         0.007595   \n",
       "Total_Trans_Amt                      0.064370         0.165923   \n",
       "Total_Trans_Ct                       0.056060         0.070885   \n",
       "Total_Ct_Chng_Q4_Q1                  0.089861        -0.010076   \n",
       "Avg_Utilization_Ratio                0.624022        -0.538808   \n",
       "Attrition_Flag                       0.263053         0.000285   \n",
       "\n",
       "                          Total_Amt_Chng_Q4_Q1  Total_Trans_Amt  \\\n",
       "CLIENTNUM                             0.017369        -0.019692   \n",
       "Customer_Age                         -0.062042        -0.046446   \n",
       "Gender                                0.026712         0.024890   \n",
       "Dependent_count                      -0.035439         0.025046   \n",
       "Education_Level                       0.005534         0.015287   \n",
       "Marital_Status                       -0.036210         0.044553   \n",
       "Income_Category                      -0.004534        -0.014686   \n",
       "Card_Category                         0.004061         0.176377   \n",
       "Months_on_book                       -0.048959        -0.038591   \n",
       "Total_Relationship_Count              0.050119        -0.347229   \n",
       "Months_Inactive_12_mon               -0.032247        -0.036982   \n",
       "Contacts_Count_12_mon                -0.024445        -0.112774   \n",
       "Credit_Limit                          0.012813         0.171730   \n",
       "Total_Revolving_Bal                   0.058174         0.064370   \n",
       "Avg_Open_To_Buy                       0.007595         0.165923   \n",
       "Total_Amt_Chng_Q4_Q1                  1.000000         0.039678   \n",
       "Total_Trans_Amt                       0.039678         1.000000   \n",
       "Total_Trans_Ct                        0.005469         0.807192   \n",
       "Total_Ct_Chng_Q4_Q1                   0.384189         0.085581   \n",
       "Avg_Utilization_Ratio                 0.035235        -0.083034   \n",
       "Attrition_Flag                        0.131063         0.168598   \n",
       "\n",
       "                          Total_Trans_Ct  Total_Ct_Chng_Q4_Q1  \\\n",
       "CLIENTNUM                      -0.002961             0.007696   \n",
       "Customer_Age                   -0.067097            -0.012143   \n",
       "Gender                         -0.067454            -0.005800   \n",
       "Dependent_count                 0.049912             0.011087   \n",
       "Education_Level                 0.003046             0.007279   \n",
       "Marital_Status                  0.075888             0.000258   \n",
       "Income_Category                 0.033498             0.014892   \n",
       "Card_Category                   0.116579            -0.004541   \n",
       "Months_on_book                 -0.049819            -0.014072   \n",
       "Total_Relationship_Count       -0.241891             0.040831   \n",
       "Months_Inactive_12_mon         -0.042787            -0.038989   \n",
       "Contacts_Count_12_mon          -0.152213            -0.094997   \n",
       "Credit_Limit                    0.075927            -0.002020   \n",
       "Total_Revolving_Bal             0.056060             0.089861   \n",
       "Avg_Open_To_Buy                 0.070885            -0.010076   \n",
       "Total_Amt_Chng_Q4_Q1            0.005469             0.384189   \n",
       "Total_Trans_Amt                 0.807192             0.085581   \n",
       "Total_Trans_Ct                  1.000000             0.112324   \n",
       "Total_Ct_Chng_Q4_Q1             0.112324             1.000000   \n",
       "Avg_Utilization_Ratio           0.002838             0.074143   \n",
       "Attrition_Flag                  0.371403             0.290054   \n",
       "\n",
       "                          Avg_Utilization_Ratio  Attrition_Flag  \n",
       "CLIENTNUM                              0.000266        0.046430  \n",
       "Customer_Age                           0.007114       -0.018203  \n",
       "Gender                                -0.257851        0.037272  \n",
       "Dependent_count                       -0.037135       -0.018991  \n",
       "Education_Level                        0.006477       -0.005551  \n",
       "Marital_Status                        -0.027451       -0.018597  \n",
       "Income_Category                        0.123287       -0.017584  \n",
       "Card_Category                         -0.205089        0.006038  \n",
       "Months_on_book                        -0.007541       -0.013687  \n",
       "Total_Relationship_Count               0.067663        0.150005  \n",
       "Months_Inactive_12_mon                -0.007503       -0.152449  \n",
       "Contacts_Count_12_mon                 -0.055471       -0.204491  \n",
       "Credit_Limit                          -0.482965        0.023873  \n",
       "Total_Revolving_Bal                    0.624022        0.263053  \n",
       "Avg_Open_To_Buy                       -0.538808        0.000285  \n",
       "Total_Amt_Chng_Q4_Q1                   0.035235        0.131063  \n",
       "Total_Trans_Amt                       -0.083034        0.168598  \n",
       "Total_Trans_Ct                         0.002838        0.371403  \n",
       "Total_Ct_Chng_Q4_Q1                    0.074143        0.290054  \n",
       "Avg_Utilization_Ratio                  1.000000        0.178410  \n",
       "Attrition_Flag                         0.178410        1.000000  "
      ]
     },
     "execution_count": 26,
     "metadata": {},
     "output_type": "execute_result"
    }
   ],
   "source": [
    "pd.set_option('display.max_columns', 25)\n",
    "copy.corr()"
   ]
  },
  {
   "cell_type": "markdown",
   "metadata": {},
   "source": [
    "# Plotting some of the interesting patterns based on correlation graph"
   ]
  },
  {
   "cell_type": "markdown",
   "metadata": {},
   "source": [
    "### 1. Total Transaction Count and Total Transaction Amount"
   ]
  },
  {
   "cell_type": "code",
   "execution_count": 27,
   "metadata": {},
   "outputs": [
    {
     "data": {
      "text/plain": [
       "Text(0, 0.5, 'Total Transaction Amount')"
      ]
     },
     "execution_count": 27,
     "metadata": {},
     "output_type": "execute_result"
    },
    {
     "data": {
      "image/png": "[encoded data removed]",
      "text/plain": [
       "<Figure size 432x288 with 1 Axes>"
      ]
     },
     "metadata": {
      "needs_background": "light"
     },
     "output_type": "display_data"
    }
   ],
   "source": [
    "# Only Attrited Customers in blue\n",
    "plt.scatter(copy.Total_Trans_Ct[copy.Attrition_Flag==0],\n",
    "            copy.Total_Trans_Amt[copy.Attrition_Flag==0],\n",
    "           c='blue')\n",
    "plt.xlabel(\"Total Transaction Count\")\n",
    "plt.ylabel(\"Total Transaction Amount\")\n"
   ]
  },
  {
   "cell_type": "code",
   "execution_count": 28,
   "metadata": {},
   "outputs": [
    {
     "data": {
      "text/plain": [
       "Text(0, 0.5, 'Total Transaction Amount')"
      ]
     },
     "execution_count": 28,
     "metadata": {},
     "output_type": "execute_result"
    },
    {
     "data": {
      "image/png": "[encoded data removed]",
      "text/plain": [
       "<Figure size 432x288 with 1 Axes>"
      ]
     },
     "metadata": {
      "needs_background": "light"
     },
     "output_type": "display_data"
    }
   ],
   "source": [
    "# Only Existing Customers\n",
    "plt.scatter(copy.Total_Trans_Ct[copy.Attrition_Flag==1],\n",
    "            copy.Total_Trans_Amt[copy.Attrition_Flag==1],\n",
    "           c='yellow');\n",
    "plt.xlabel(\"Total Transaction Count\")\n",
    "plt.ylabel(\"Total Transaction Amount\")"
   ]
  },
  {
   "cell_type": "code",
   "execution_count": 29,
   "metadata": {},
   "outputs": [
    {
     "data": {
      "text/plain": [
       "<matplotlib.legend.Legend at 0xb77dac0>"
      ]
     },
     "execution_count": 29,
     "metadata": {},
     "output_type": "execute_result"
    },
    {
     "data": {
      "image/png": "[encoded data removed]",
      "text/plain": [
       "<Figure size 504x504 with 1 Axes>"
      ]
     },
     "metadata": {
      "needs_background": "light"
     },
     "output_type": "display_data"
    }
   ],
   "source": [
    "#Visualizing data across Total Transaction Count and Total Transaction Amount\n",
    "plt.figure(figsize=(7,7))\n",
    "\n",
    "#Attrited Customers\n",
    "plt.scatter(copy.Total_Trans_Ct[copy.Attrition_Flag==0],\n",
    "            copy.Total_Trans_Amt[copy.Attrition_Flag==0],\n",
    "           c='blue', label='Attrited Customers')\n",
    "\n",
    "#Existing Customers\n",
    "plt.scatter(copy.Total_Trans_Ct[copy.Attrition_Flag==1],\n",
    "            copy.Total_Trans_Amt[copy.Attrition_Flag==1],\n",
    "           c='yellow', label='Existing Customers');  # With the help of labels we can pring legend\n",
    "\n",
    "plt.xlabel(\"Total Transaction Count\")\n",
    "plt.ylabel(\"Total Transaction Amount\")\n",
    "plt.legend()"
   ]
  },
  {
   "cell_type": "markdown",
   "metadata": {},
   "source": [
    "### Conclusion : \n",
    "* The customers whose transaction count is more than 100 and performs transaction of amount more than 11000 are more likely to stay with our credit card service.\n",
    "* The customers who performs transaction between 6000 - 11000 amount and transaction count is less than 65 are more likely to get attrited."
   ]
  },
  {
   "cell_type": "markdown",
   "metadata": {},
   "source": [
    "### 2. Total_Ct_Chng_Q4_Q1\t"
   ]
  },
  {
   "cell_type": "code",
   "execution_count": 30,
   "metadata": {},
   "outputs": [
    {
     "data": {
      "text/plain": [
       "Text(0, 0.5, 'Attrited          Existing')"
      ]
     },
     "execution_count": 30,
     "metadata": {},
     "output_type": "execute_result"
    },
    {
     "data": {
      "image/png": "[encoded data removed]",
      "text/plain": [
       "<Figure size 504x216 with 1 Axes>"
      ]
     },
     "metadata": {
      "needs_background": "light"
     },
     "output_type": "display_data"
    }
   ],
   "source": [
    "#Visualizing data across Total_Ct_Chng_Q4_Q1 and Attrition_Flag\n",
    "plt.figure(figsize=(7,3))\n",
    "\n",
    "#Attrited Customers\n",
    "plt.scatter(copy.Total_Ct_Chng_Q4_Q1[copy.Attrition_Flag==0],\n",
    "            copy.Attrition_Flag[copy.Attrition_Flag==0],\n",
    "           c='blue')\n",
    "\n",
    "#Existing Customers\n",
    "plt.scatter(copy.Total_Ct_Chng_Q4_Q1[copy.Attrition_Flag==1],\n",
    "            copy.Attrition_Flag[copy.Attrition_Flag==1],\n",
    "           c='yellow');\n",
    "\n",
    "plt.xlabel(\"Total_Ct_Chng_Q4_Q1\")\n",
    "plt.ylabel(\"Attrited          Existing\")"
   ]
  },
  {
   "cell_type": "markdown",
   "metadata": {},
   "source": [
    "### Conclusion :\n",
    "* Transaction count change (Q4 over Q1) more than 1.4 gives a strong positive signal that customers will continue our service "
   ]
  },
  {
   "cell_type": "markdown",
   "metadata": {},
   "source": [
    "### 3. Total Revolving Balance"
   ]
  },
  {
   "cell_type": "code",
   "execution_count": 31,
   "metadata": {},
   "outputs": [
    {
     "data": {
      "text/plain": [
       "Text(0, 0.5, 'Attrited          Existing')"
      ]
     },
     "execution_count": 31,
     "metadata": {},
     "output_type": "execute_result"
    },
    {
     "data": {
      "image/png": "[encoded data removed]",
      "text/plain": [
       "<Figure size 504x216 with 1 Axes>"
      ]
     },
     "metadata": {
      "needs_background": "light"
     },
     "output_type": "display_data"
    }
   ],
   "source": [
    "#Visualizing data across Total_Revolving_Balance and Attrition_Flag\n",
    "plt.figure(figsize=(7,3))\n",
    "\n",
    "#Attrited Customers\n",
    "plt.scatter(copy.Total_Revolving_Bal[copy.Attrition_Flag==0],\n",
    "            copy.Attrition_Flag[copy.Attrition_Flag==0],\n",
    "           c='blue')\n",
    "\n",
    "#Existing Customers\n",
    "plt.scatter(copy.Total_Revolving_Bal[copy.Attrition_Flag==1],\n",
    "            copy.Attrition_Flag[copy.Attrition_Flag==1],\n",
    "           c='yellow');\n",
    "\n",
    "plt.xlabel(\"Total Revolving Balance\")\n",
    "plt.ylabel(\"Attrited          Existing\")"
   ]
  },
  {
   "cell_type": "markdown",
   "metadata": {},
   "source": [
    "### Conclusion :\n",
    "* If Total Revovling Balance is less than 400, than the customer is most likely to get attrited."
   ]
  },
  {
   "cell_type": "markdown",
   "metadata": {},
   "source": [
    "### 4. Total Revolving Balance and Average Utilization Ratio"
   ]
  },
  {
   "cell_type": "code",
   "execution_count": 32,
   "metadata": {},
   "outputs": [
    {
     "data": {
      "text/plain": [
       "Text(0, 0.5, 'Average Utilization Ratio')"
      ]
     },
     "execution_count": 32,
     "metadata": {},
     "output_type": "execute_result"
    },
    {
     "data": {
      "image/png": "[encoded data removed]",
      "text/plain": [
       "<Figure size 432x288 with 1 Axes>"
      ]
     },
     "metadata": {
      "needs_background": "light"
     },
     "output_type": "display_data"
    }
   ],
   "source": [
    "# Only Attrited Customers in blue\n",
    "plt.scatter(copy.Total_Revolving_Bal[copy.Attrition_Flag==0],\n",
    "            copy.Avg_Utilization_Ratio[copy.Attrition_Flag==0],\n",
    "           c='blue')\n",
    "plt.xlabel(\"Total Revolving Balance\")\n",
    "plt.ylabel(\"Average Utilization Ratio\")"
   ]
  },
  {
   "cell_type": "code",
   "execution_count": 33,
   "metadata": {},
   "outputs": [
    {
     "data": {
      "text/plain": [
       "Text(0, 0.5, 'Average Utilization Ratio')"
      ]
     },
     "execution_count": 33,
     "metadata": {},
     "output_type": "execute_result"
    },
    {
     "data": {
      "image/png": "[encoded data removed]",
      "text/plain": [
       "<Figure size 432x288 with 1 Axes>"
      ]
     },
     "metadata": {
      "needs_background": "light"
     },
     "output_type": "display_data"
    }
   ],
   "source": [
    "# Only Existing Customers\n",
    "plt.scatter(copy.Total_Revolving_Bal[copy.Attrition_Flag==1],\n",
    "            copy.Avg_Utilization_Ratio[copy.Attrition_Flag==1],\n",
    "           c='yellow');\n",
    "plt.xlabel(\"Total Revolving Balance\")\n",
    "plt.ylabel(\"Average Utilization Ratio\")"
   ]
  },
  {
   "cell_type": "code",
   "execution_count": 34,
   "metadata": {},
   "outputs": [
    {
     "data": {
      "text/plain": [
       "Text(0, 0.5, 'Average Utilization Ratio')"
      ]
     },
     "execution_count": 34,
     "metadata": {},
     "output_type": "execute_result"
    },
    {
     "data": {
      "image/png": "[encoded data removed]",
      "text/plain": [
       "<Figure size 504x504 with 1 Axes>"
      ]
     },
     "metadata": {
      "needs_background": "light"
     },
     "output_type": "display_data"
    }
   ],
   "source": [
    "#Visualizing data across Total_Revolving_Balance and Average utilization ratio\n",
    "plt.figure(figsize=(7,7))\n",
    "\n",
    "#Attrited Customers\n",
    "plt.scatter(copy.Total_Revolving_Bal[copy.Attrition_Flag==0],\n",
    "            copy.Avg_Utilization_Ratio[copy.Attrition_Flag==0],\n",
    "           c='blue')\n",
    "\n",
    "#Existing Customers\n",
    "plt.scatter(copy.Total_Revolving_Bal[copy.Attrition_Flag==1],\n",
    "            copy.Avg_Utilization_Ratio[copy.Attrition_Flag==1],\n",
    "           c='yellow');\n",
    "\n",
    "plt.xlabel(\"Total Revolving Balance\")\n",
    "plt.ylabel(\"Average Utilization Ratio\")"
   ]
  },
  {
   "cell_type": "markdown",
   "metadata": {},
   "source": [
    "### 5. Credit Limit and Average Open To Buy"
   ]
  },
  {
   "cell_type": "code",
   "execution_count": 35,
   "metadata": {},
   "outputs": [
    {
     "data": {
      "text/plain": [
       "Text(0, 0.5, 'Customer Age')"
      ]
     },
     "execution_count": 35,
     "metadata": {},
     "output_type": "execute_result"
    },
    {
     "data": {
      "image/png": "[encoded data removed]",
      "text/plain": [
       "<Figure size 504x504 with 1 Axes>"
      ]
     },
     "metadata": {
      "needs_background": "light"
     },
     "output_type": "display_data"
    }
   ],
   "source": [
    "#Visualizing data across Customer_Age and Months_On_Book\n",
    "plt.figure(figsize=(7,7))\n",
    "\n",
    "#Attrited Customers\n",
    "plt.scatter(copy.Months_on_book[copy.Attrition_Flag==0],\n",
    "            copy.Customer_Age[copy.Attrition_Flag==0],\n",
    "           c='blue')\n",
    "\n",
    "#Existing Customers\n",
    "plt.scatter(copy.Months_on_book[copy.Attrition_Flag==1],\n",
    "            copy.Customer_Age[copy.Attrition_Flag==1],\n",
    "           c='yellow');\n",
    "\n",
    "plt.xlabel(\"Months On Book\")\n",
    "plt.ylabel(\"Customer Age\")"
   ]
  },
  {
   "cell_type": "markdown",
   "metadata": {},
   "source": [
    "### Conclusion :\n",
    "* There is a linear relation betwen Customer Age and Months on book. The more the customer age is, the more is his months on book "
   ]
  },
  {
   "cell_type": "markdown",
   "metadata": {},
   "source": [
    "## Test split"
   ]
  },
  {
   "cell_type": "code",
   "execution_count": 36,
   "metadata": {},
   "outputs": [],
   "source": [
    "np.random.seed(6)\n",
    "\n",
    "from sklearn.model_selection import train_test_split\n",
    "\n",
    "A = copy.drop(\"Attrition_Flag\", axis=1)\n",
    "B = copy[\"Attrition_Flag\"]\n",
    "\n",
    "a_train , a_test , b_train , b_test = train_test_split(A,B, test_size=0.04)"
   ]
  },
  {
   "cell_type": "code",
   "execution_count": 37,
   "metadata": {},
   "outputs": [
    {
     "data": {
      "text/plain": [
       "0    70\n",
       "Name: Attrition_Flag, dtype: int64"
      ]
     },
     "execution_count": 37,
     "metadata": {},
     "output_type": "execute_result"
    }
   ],
   "source": [
    "b_test[b_test==0].value_counts()"
   ]
  },
  {
   "cell_type": "markdown",
   "metadata": {},
   "source": [
    "## Manually pulling 200 rows of attrited customers and 200 rows of existing customers and putting it as final test set."
   ]
  },
  {
   "cell_type": "code",
   "execution_count": 38,
   "metadata": {},
   "outputs": [
    {
     "data": {
      "text/html": [
       "<div>\n",
       "<style scoped>\n",
       "    .dataframe tbody tr th:only-of-type {\n",
       "        vertical-align: middle;\n",
       "    }\n",
       "\n",
       "    .dataframe tbody tr th {\n",
       "        vertical-align: top;\n",
       "    }\n",
       "\n",
       "    .dataframe thead th {\n",
       "        text-align: right;\n",
       "    }\n",
       "</style>\n",
       "<table border=\"1\" class=\"dataframe\">\n",
       "  <thead>\n",
       "    <tr style=\"text-align: right;\">\n",
       "      <th></th>\n",
       "      <th>Customer_Age</th>\n",
       "      <th>Gender</th>\n",
       "      <th>Dependent_count</th>\n",
       "      <th>Education_Level</th>\n",
       "      <th>Marital_Status</th>\n",
       "      <th>Income_Category</th>\n",
       "      <th>Card_Category</th>\n",
       "      <th>Months_on_book</th>\n",
       "      <th>Total_Relationship_Count</th>\n",
       "      <th>Months_Inactive_12_mon</th>\n",
       "      <th>Contacts_Count_12_mon</th>\n",
       "      <th>Credit_Limit</th>\n",
       "      <th>Total_Revolving_Bal</th>\n",
       "      <th>Avg_Open_To_Buy</th>\n",
       "      <th>Total_Amt_Chng_Q4_Q1</th>\n",
       "      <th>Total_Trans_Amt</th>\n",
       "      <th>Total_Trans_Ct</th>\n",
       "      <th>Total_Ct_Chng_Q4_Q1</th>\n",
       "      <th>Avg_Utilization_Ratio</th>\n",
       "      <th>Attrition_Flag</th>\n",
       "    </tr>\n",
       "  </thead>\n",
       "  <tbody>\n",
       "    <tr>\n",
       "      <th>0</th>\n",
       "      <td>45</td>\n",
       "      <td>1</td>\n",
       "      <td>3</td>\n",
       "      <td>3</td>\n",
       "      <td>1</td>\n",
       "      <td>2</td>\n",
       "      <td>0</td>\n",
       "      <td>39</td>\n",
       "      <td>5</td>\n",
       "      <td>1</td>\n",
       "      <td>3</td>\n",
       "      <td>12691.0</td>\n",
       "      <td>777</td>\n",
       "      <td>11914.0</td>\n",
       "      <td>1.335</td>\n",
       "      <td>1144</td>\n",
       "      <td>42</td>\n",
       "      <td>1.625</td>\n",
       "      <td>0.061</td>\n",
       "      <td>1</td>\n",
       "    </tr>\n",
       "    <tr>\n",
       "      <th>1</th>\n",
       "      <td>49</td>\n",
       "      <td>0</td>\n",
       "      <td>5</td>\n",
       "      <td>2</td>\n",
       "      <td>2</td>\n",
       "      <td>4</td>\n",
       "      <td>0</td>\n",
       "      <td>44</td>\n",
       "      <td>6</td>\n",
       "      <td>1</td>\n",
       "      <td>2</td>\n",
       "      <td>8256.0</td>\n",
       "      <td>864</td>\n",
       "      <td>7392.0</td>\n",
       "      <td>1.541</td>\n",
       "      <td>1291</td>\n",
       "      <td>33</td>\n",
       "      <td>3.714</td>\n",
       "      <td>0.105</td>\n",
       "      <td>1</td>\n",
       "    </tr>\n",
       "    <tr>\n",
       "      <th>2</th>\n",
       "      <td>51</td>\n",
       "      <td>1</td>\n",
       "      <td>3</td>\n",
       "      <td>2</td>\n",
       "      <td>1</td>\n",
       "      <td>3</td>\n",
       "      <td>0</td>\n",
       "      <td>36</td>\n",
       "      <td>4</td>\n",
       "      <td>1</td>\n",
       "      <td>0</td>\n",
       "      <td>3418.0</td>\n",
       "      <td>0</td>\n",
       "      <td>3418.0</td>\n",
       "      <td>2.594</td>\n",
       "      <td>1887</td>\n",
       "      <td>20</td>\n",
       "      <td>2.333</td>\n",
       "      <td>0.000</td>\n",
       "      <td>1</td>\n",
       "    </tr>\n",
       "    <tr>\n",
       "      <th>3</th>\n",
       "      <td>40</td>\n",
       "      <td>0</td>\n",
       "      <td>4</td>\n",
       "      <td>3</td>\n",
       "      <td>3</td>\n",
       "      <td>4</td>\n",
       "      <td>0</td>\n",
       "      <td>34</td>\n",
       "      <td>3</td>\n",
       "      <td>4</td>\n",
       "      <td>1</td>\n",
       "      <td>3313.0</td>\n",
       "      <td>2517</td>\n",
       "      <td>796.0</td>\n",
       "      <td>1.405</td>\n",
       "      <td>1171</td>\n",
       "      <td>20</td>\n",
       "      <td>2.333</td>\n",
       "      <td>0.760</td>\n",
       "      <td>1</td>\n",
       "    </tr>\n",
       "    <tr>\n",
       "      <th>4</th>\n",
       "      <td>40</td>\n",
       "      <td>1</td>\n",
       "      <td>3</td>\n",
       "      <td>5</td>\n",
       "      <td>1</td>\n",
       "      <td>2</td>\n",
       "      <td>0</td>\n",
       "      <td>21</td>\n",
       "      <td>5</td>\n",
       "      <td>1</td>\n",
       "      <td>0</td>\n",
       "      <td>4716.0</td>\n",
       "      <td>0</td>\n",
       "      <td>4716.0</td>\n",
       "      <td>2.175</td>\n",
       "      <td>816</td>\n",
       "      <td>28</td>\n",
       "      <td>2.500</td>\n",
       "      <td>0.000</td>\n",
       "      <td>1</td>\n",
       "    </tr>\n",
       "  </tbody>\n",
       "</table>\n",
       "</div>"
      ],
      "text/plain": [
       "   Customer_Age  Gender  Dependent_count  Education_Level  Marital_Status  \\\n",
       "0            45       1                3                3               1   \n",
       "1            49       0                5                2               2   \n",
       "2            51       1                3                2               1   \n",
       "3            40       0                4                3               3   \n",
       "4            40       1                3                5               1   \n",
       "\n",
       "   Income_Category  Card_Category  Months_on_book  Total_Relationship_Count  \\\n",
       "0                2              0              39                         5   \n",
       "1                4              0              44                         6   \n",
       "2                3              0              36                         4   \n",
       "3                4              0              34                         3   \n",
       "4                2              0              21                         5   \n",
       "\n",
       "   Months_Inactive_12_mon  Contacts_Count_12_mon  Credit_Limit  \\\n",
       "0                       1                      3       12691.0   \n",
       "1                       1                      2        8256.0   \n",
       "2                       1                      0        3418.0   \n",
       "3                       4                      1        3313.0   \n",
       "4                       1                      0        4716.0   \n",
       "\n",
       "   Total_Revolving_Bal  Avg_Open_To_Buy  Total_Amt_Chng_Q4_Q1  \\\n",
       "0                  777          11914.0                 1.335   \n",
       "1                  864           7392.0                 1.541   \n",
       "2                    0           3418.0                 2.594   \n",
       "3                 2517            796.0                 1.405   \n",
       "4                    0           4716.0                 2.175   \n",
       "\n",
       "   Total_Trans_Amt  Total_Trans_Ct  Total_Ct_Chng_Q4_Q1  \\\n",
       "0             1144              42                1.625   \n",
       "1             1291              33                3.714   \n",
       "2             1887              20                2.333   \n",
       "3             1171              20                2.333   \n",
       "4              816              28                2.500   \n",
       "\n",
       "   Avg_Utilization_Ratio  Attrition_Flag  \n",
       "0                  0.061               1  \n",
       "1                  0.105               1  \n",
       "2                  0.000               1  \n",
       "3                  0.760               1  \n",
       "4                  0.000               1  "
      ]
     },
     "execution_count": 38,
     "metadata": {},
     "output_type": "execute_result"
    }
   ],
   "source": [
    "copy = copy.drop(\"CLIENTNUM\",axis=1)\n",
    "copy.head()"
   ]
  },
  {
   "cell_type": "code",
   "execution_count": 39,
   "metadata": {},
   "outputs": [
    {
     "data": {
      "text/plain": [
       "(1627, 20)"
      ]
     },
     "execution_count": 39,
     "metadata": {},
     "output_type": "execute_result"
    }
   ],
   "source": [
    "all_ac = copy[copy['Attrition_Flag']==0]\n",
    "all_ac.shape"
   ]
  },
  {
   "cell_type": "code",
   "execution_count": 40,
   "metadata": {},
   "outputs": [
    {
     "data": {
      "text/plain": [
       "(8500, 20)"
      ]
     },
     "execution_count": 40,
     "metadata": {},
     "output_type": "execute_result"
    }
   ],
   "source": [
    "all_ec = copy[copy['Attrition_Flag']==1]\n",
    "all_ec.shape"
   ]
  },
  {
   "cell_type": "code",
   "execution_count": 41,
   "metadata": {},
   "outputs": [],
   "source": [
    "np.random.seed(42)\n",
    "all_ac = all_ac.sample(frac=1)\n",
    "all_ec = all_ec.sample(frac=1)"
   ]
  },
  {
   "cell_type": "code",
   "execution_count": 42,
   "metadata": {},
   "outputs": [],
   "source": [
    "np.random.seed(43)\n",
    "all_ac = all_ac.sample(frac=1)\n",
    "all_ec = all_ec.sample(frac=1)"
   ]
  },
  {
   "cell_type": "code",
   "execution_count": 43,
   "metadata": {},
   "outputs": [
    {
     "data": {
      "text/html": [
       "<div>\n",
       "<style scoped>\n",
       "    .dataframe tbody tr th:only-of-type {\n",
       "        vertical-align: middle;\n",
       "    }\n",
       "\n",
       "    .dataframe tbody tr th {\n",
       "        vertical-align: top;\n",
       "    }\n",
       "\n",
       "    .dataframe thead th {\n",
       "        text-align: right;\n",
       "    }\n",
       "</style>\n",
       "<table border=\"1\" class=\"dataframe\">\n",
       "  <thead>\n",
       "    <tr style=\"text-align: right;\">\n",
       "      <th></th>\n",
       "      <th>Customer_Age</th>\n",
       "      <th>Gender</th>\n",
       "      <th>Dependent_count</th>\n",
       "      <th>Education_Level</th>\n",
       "      <th>Marital_Status</th>\n",
       "      <th>Income_Category</th>\n",
       "      <th>Card_Category</th>\n",
       "      <th>Months_on_book</th>\n",
       "      <th>Total_Relationship_Count</th>\n",
       "      <th>Months_Inactive_12_mon</th>\n",
       "      <th>Contacts_Count_12_mon</th>\n",
       "      <th>Credit_Limit</th>\n",
       "      <th>Total_Revolving_Bal</th>\n",
       "      <th>Avg_Open_To_Buy</th>\n",
       "      <th>Total_Amt_Chng_Q4_Q1</th>\n",
       "      <th>Total_Trans_Amt</th>\n",
       "      <th>Total_Trans_Ct</th>\n",
       "      <th>Total_Ct_Chng_Q4_Q1</th>\n",
       "      <th>Avg_Utilization_Ratio</th>\n",
       "      <th>Attrition_Flag</th>\n",
       "    </tr>\n",
       "  </thead>\n",
       "  <tbody>\n",
       "    <tr>\n",
       "      <th>4133</th>\n",
       "      <td>48</td>\n",
       "      <td>1</td>\n",
       "      <td>2</td>\n",
       "      <td>3</td>\n",
       "      <td>1</td>\n",
       "      <td>3</td>\n",
       "      <td>0</td>\n",
       "      <td>32</td>\n",
       "      <td>1</td>\n",
       "      <td>2</td>\n",
       "      <td>4</td>\n",
       "      <td>16362.0</td>\n",
       "      <td>2268</td>\n",
       "      <td>14094.0</td>\n",
       "      <td>0.841</td>\n",
       "      <td>2228</td>\n",
       "      <td>37</td>\n",
       "      <td>0.850</td>\n",
       "      <td>0.139</td>\n",
       "      <td>0</td>\n",
       "    </tr>\n",
       "    <tr>\n",
       "      <th>6373</th>\n",
       "      <td>59</td>\n",
       "      <td>0</td>\n",
       "      <td>2</td>\n",
       "      <td>3</td>\n",
       "      <td>1</td>\n",
       "      <td>1</td>\n",
       "      <td>0</td>\n",
       "      <td>36</td>\n",
       "      <td>3</td>\n",
       "      <td>3</td>\n",
       "      <td>3</td>\n",
       "      <td>4375.0</td>\n",
       "      <td>0</td>\n",
       "      <td>4375.0</td>\n",
       "      <td>0.621</td>\n",
       "      <td>2507</td>\n",
       "      <td>53</td>\n",
       "      <td>0.472</td>\n",
       "      <td>0.000</td>\n",
       "      <td>0</td>\n",
       "    </tr>\n",
       "    <tr>\n",
       "      <th>9639</th>\n",
       "      <td>49</td>\n",
       "      <td>0</td>\n",
       "      <td>3</td>\n",
       "      <td>6</td>\n",
       "      <td>2</td>\n",
       "      <td>4</td>\n",
       "      <td>0</td>\n",
       "      <td>37</td>\n",
       "      <td>2</td>\n",
       "      <td>2</td>\n",
       "      <td>2</td>\n",
       "      <td>5855.0</td>\n",
       "      <td>0</td>\n",
       "      <td>5855.0</td>\n",
       "      <td>0.962</td>\n",
       "      <td>9202</td>\n",
       "      <td>80</td>\n",
       "      <td>0.860</td>\n",
       "      <td>0.000</td>\n",
       "      <td>0</td>\n",
       "    </tr>\n",
       "    <tr>\n",
       "      <th>7932</th>\n",
       "      <td>39</td>\n",
       "      <td>1</td>\n",
       "      <td>3</td>\n",
       "      <td>0</td>\n",
       "      <td>1</td>\n",
       "      <td>3</td>\n",
       "      <td>0</td>\n",
       "      <td>30</td>\n",
       "      <td>2</td>\n",
       "      <td>3</td>\n",
       "      <td>3</td>\n",
       "      <td>4618.0</td>\n",
       "      <td>0</td>\n",
       "      <td>4618.0</td>\n",
       "      <td>0.717</td>\n",
       "      <td>2476</td>\n",
       "      <td>49</td>\n",
       "      <td>0.750</td>\n",
       "      <td>0.000</td>\n",
       "      <td>0</td>\n",
       "    </tr>\n",
       "    <tr>\n",
       "      <th>4796</th>\n",
       "      <td>44</td>\n",
       "      <td>0</td>\n",
       "      <td>3</td>\n",
       "      <td>2</td>\n",
       "      <td>1</td>\n",
       "      <td>4</td>\n",
       "      <td>0</td>\n",
       "      <td>36</td>\n",
       "      <td>6</td>\n",
       "      <td>3</td>\n",
       "      <td>4</td>\n",
       "      <td>1984.0</td>\n",
       "      <td>0</td>\n",
       "      <td>1984.0</td>\n",
       "      <td>0.890</td>\n",
       "      <td>2506</td>\n",
       "      <td>46</td>\n",
       "      <td>0.643</td>\n",
       "      <td>0.000</td>\n",
       "      <td>0</td>\n",
       "    </tr>\n",
       "  </tbody>\n",
       "</table>\n",
       "</div>"
      ],
      "text/plain": [
       "      Customer_Age  Gender  Dependent_count  Education_Level  Marital_Status  \\\n",
       "4133            48       1                2                3               1   \n",
       "6373            59       0                2                3               1   \n",
       "9639            49       0                3                6               2   \n",
       "7932            39       1                3                0               1   \n",
       "4796            44       0                3                2               1   \n",
       "\n",
       "      Income_Category  Card_Category  Months_on_book  \\\n",
       "4133                3              0              32   \n",
       "6373                1              0              36   \n",
       "9639                4              0              37   \n",
       "7932                3              0              30   \n",
       "4796                4              0              36   \n",
       "\n",
       "      Total_Relationship_Count  Months_Inactive_12_mon  Contacts_Count_12_mon  \\\n",
       "4133                         1                       2                      4   \n",
       "6373                         3                       3                      3   \n",
       "9639                         2                       2                      2   \n",
       "7932                         2                       3                      3   \n",
       "4796                         6                       3                      4   \n",
       "\n",
       "      Credit_Limit  Total_Revolving_Bal  Avg_Open_To_Buy  \\\n",
       "4133       16362.0                 2268          14094.0   \n",
       "6373        4375.0                    0           4375.0   \n",
       "9639        5855.0                    0           5855.0   \n",
       "7932        4618.0                    0           4618.0   \n",
       "4796        1984.0                    0           1984.0   \n",
       "\n",
       "      Total_Amt_Chng_Q4_Q1  Total_Trans_Amt  Total_Trans_Ct  \\\n",
       "4133                 0.841             2228              37   \n",
       "6373                 0.621             2507              53   \n",
       "9639                 0.962             9202              80   \n",
       "7932                 0.717             2476              49   \n",
       "4796                 0.890             2506              46   \n",
       "\n",
       "      Total_Ct_Chng_Q4_Q1  Avg_Utilization_Ratio  Attrition_Flag  \n",
       "4133                0.850                  0.139               0  \n",
       "6373                0.472                  0.000               0  \n",
       "9639                0.860                  0.000               0  \n",
       "7932                0.750                  0.000               0  \n",
       "4796                0.643                  0.000               0  "
      ]
     },
     "execution_count": 43,
     "metadata": {},
     "output_type": "execute_result"
    }
   ],
   "source": [
    "all_ac.head()"
   ]
  },
  {
   "cell_type": "code",
   "execution_count": 44,
   "metadata": {},
   "outputs": [
    {
     "data": {
      "text/plain": [
       "(1627, 20)"
      ]
     },
     "execution_count": 44,
     "metadata": {},
     "output_type": "execute_result"
    }
   ],
   "source": [
    "all_ac.shape"
   ]
  },
  {
   "cell_type": "code",
   "execution_count": 45,
   "metadata": {},
   "outputs": [],
   "source": [
    "final_test_ac = all_ac.head(200)\n",
    "final_test_ec = all_ec.head(200)"
   ]
  },
  {
   "cell_type": "code",
   "execution_count": 46,
   "metadata": {},
   "outputs": [
    {
     "data": {
      "text/plain": [
       "pandas.core.indexes.numeric.Int64Index"
      ]
     },
     "execution_count": 46,
     "metadata": {},
     "output_type": "execute_result"
    }
   ],
   "source": [
    "l = final_test_ac.index\n",
    "type(l)"
   ]
  },
  {
   "cell_type": "code",
   "execution_count": 47,
   "metadata": {},
   "outputs": [
    {
     "data": {
      "text/plain": [
       "200"
      ]
     },
     "execution_count": 47,
     "metadata": {},
     "output_type": "execute_result"
    }
   ],
   "source": [
    "len(l)"
   ]
  },
  {
   "cell_type": "code",
   "execution_count": 48,
   "metadata": {},
   "outputs": [
    {
     "data": {
      "text/plain": [
       "(10127, 20)"
      ]
     },
     "execution_count": 48,
     "metadata": {},
     "output_type": "execute_result"
    }
   ],
   "source": [
    "copy.shape"
   ]
  },
  {
   "cell_type": "code",
   "execution_count": 49,
   "metadata": {},
   "outputs": [
    {
     "data": {
      "text/plain": [
       "(9927, 20)"
      ]
     },
     "execution_count": 49,
     "metadata": {},
     "output_type": "execute_result"
    }
   ],
   "source": [
    "copy = copy.drop(index=l)\n",
    "copy.shape"
   ]
  },
  {
   "cell_type": "code",
   "execution_count": 50,
   "metadata": {},
   "outputs": [
    {
     "data": {
      "text/plain": [
       "(9727, 20)"
      ]
     },
     "execution_count": 50,
     "metadata": {},
     "output_type": "execute_result"
    }
   ],
   "source": [
    "m = final_test_ec.index\n",
    "copy = copy.drop(index=m)\n",
    "copy.shape"
   ]
  },
  {
   "cell_type": "code",
   "execution_count": 51,
   "metadata": {},
   "outputs": [
    {
     "data": {
      "text/plain": [
       "(400, 20)"
      ]
     },
     "execution_count": 51,
     "metadata": {},
     "output_type": "execute_result"
    }
   ],
   "source": [
    "final_test = pd.concat([final_test_ac,final_test_ec],axis=0)\n",
    "final_test.shape"
   ]
  },
  {
   "cell_type": "code",
   "execution_count": 52,
   "metadata": {},
   "outputs": [
    {
     "data": {
      "text/html": [
       "<div>\n",
       "<style scoped>\n",
       "    .dataframe tbody tr th:only-of-type {\n",
       "        vertical-align: middle;\n",
       "    }\n",
       "\n",
       "    .dataframe tbody tr th {\n",
       "        vertical-align: top;\n",
       "    }\n",
       "\n",
       "    .dataframe thead th {\n",
       "        text-align: right;\n",
       "    }\n",
       "</style>\n",
       "<table border=\"1\" class=\"dataframe\">\n",
       "  <thead>\n",
       "    <tr style=\"text-align: right;\">\n",
       "      <th></th>\n",
       "      <th>Customer_Age</th>\n",
       "      <th>Gender</th>\n",
       "      <th>Dependent_count</th>\n",
       "      <th>Education_Level</th>\n",
       "      <th>Marital_Status</th>\n",
       "      <th>Income_Category</th>\n",
       "      <th>Card_Category</th>\n",
       "      <th>Months_on_book</th>\n",
       "      <th>Total_Relationship_Count</th>\n",
       "      <th>Months_Inactive_12_mon</th>\n",
       "      <th>Contacts_Count_12_mon</th>\n",
       "      <th>Credit_Limit</th>\n",
       "      <th>Total_Revolving_Bal</th>\n",
       "      <th>Avg_Open_To_Buy</th>\n",
       "      <th>Total_Amt_Chng_Q4_Q1</th>\n",
       "      <th>Total_Trans_Amt</th>\n",
       "      <th>Total_Trans_Ct</th>\n",
       "      <th>Total_Ct_Chng_Q4_Q1</th>\n",
       "      <th>Avg_Utilization_Ratio</th>\n",
       "      <th>Attrition_Flag</th>\n",
       "    </tr>\n",
       "  </thead>\n",
       "  <tbody>\n",
       "    <tr>\n",
       "      <th>4133</th>\n",
       "      <td>48</td>\n",
       "      <td>1</td>\n",
       "      <td>2</td>\n",
       "      <td>3</td>\n",
       "      <td>1</td>\n",
       "      <td>3</td>\n",
       "      <td>0</td>\n",
       "      <td>32</td>\n",
       "      <td>1</td>\n",
       "      <td>2</td>\n",
       "      <td>4</td>\n",
       "      <td>16362.0</td>\n",
       "      <td>2268</td>\n",
       "      <td>14094.0</td>\n",
       "      <td>0.841</td>\n",
       "      <td>2228</td>\n",
       "      <td>37</td>\n",
       "      <td>0.850</td>\n",
       "      <td>0.139</td>\n",
       "      <td>0</td>\n",
       "    </tr>\n",
       "    <tr>\n",
       "      <th>6373</th>\n",
       "      <td>59</td>\n",
       "      <td>0</td>\n",
       "      <td>2</td>\n",
       "      <td>3</td>\n",
       "      <td>1</td>\n",
       "      <td>1</td>\n",
       "      <td>0</td>\n",
       "      <td>36</td>\n",
       "      <td>3</td>\n",
       "      <td>3</td>\n",
       "      <td>3</td>\n",
       "      <td>4375.0</td>\n",
       "      <td>0</td>\n",
       "      <td>4375.0</td>\n",
       "      <td>0.621</td>\n",
       "      <td>2507</td>\n",
       "      <td>53</td>\n",
       "      <td>0.472</td>\n",
       "      <td>0.000</td>\n",
       "      <td>0</td>\n",
       "    </tr>\n",
       "    <tr>\n",
       "      <th>9639</th>\n",
       "      <td>49</td>\n",
       "      <td>0</td>\n",
       "      <td>3</td>\n",
       "      <td>6</td>\n",
       "      <td>2</td>\n",
       "      <td>4</td>\n",
       "      <td>0</td>\n",
       "      <td>37</td>\n",
       "      <td>2</td>\n",
       "      <td>2</td>\n",
       "      <td>2</td>\n",
       "      <td>5855.0</td>\n",
       "      <td>0</td>\n",
       "      <td>5855.0</td>\n",
       "      <td>0.962</td>\n",
       "      <td>9202</td>\n",
       "      <td>80</td>\n",
       "      <td>0.860</td>\n",
       "      <td>0.000</td>\n",
       "      <td>0</td>\n",
       "    </tr>\n",
       "    <tr>\n",
       "      <th>7932</th>\n",
       "      <td>39</td>\n",
       "      <td>1</td>\n",
       "      <td>3</td>\n",
       "      <td>0</td>\n",
       "      <td>1</td>\n",
       "      <td>3</td>\n",
       "      <td>0</td>\n",
       "      <td>30</td>\n",
       "      <td>2</td>\n",
       "      <td>3</td>\n",
       "      <td>3</td>\n",
       "      <td>4618.0</td>\n",
       "      <td>0</td>\n",
       "      <td>4618.0</td>\n",
       "      <td>0.717</td>\n",
       "      <td>2476</td>\n",
       "      <td>49</td>\n",
       "      <td>0.750</td>\n",
       "      <td>0.000</td>\n",
       "      <td>0</td>\n",
       "    </tr>\n",
       "    <tr>\n",
       "      <th>4796</th>\n",
       "      <td>44</td>\n",
       "      <td>0</td>\n",
       "      <td>3</td>\n",
       "      <td>2</td>\n",
       "      <td>1</td>\n",
       "      <td>4</td>\n",
       "      <td>0</td>\n",
       "      <td>36</td>\n",
       "      <td>6</td>\n",
       "      <td>3</td>\n",
       "      <td>4</td>\n",
       "      <td>1984.0</td>\n",
       "      <td>0</td>\n",
       "      <td>1984.0</td>\n",
       "      <td>0.890</td>\n",
       "      <td>2506</td>\n",
       "      <td>46</td>\n",
       "      <td>0.643</td>\n",
       "      <td>0.000</td>\n",
       "      <td>0</td>\n",
       "    </tr>\n",
       "  </tbody>\n",
       "</table>\n",
       "</div>"
      ],
      "text/plain": [
       "      Customer_Age  Gender  Dependent_count  Education_Level  Marital_Status  \\\n",
       "4133            48       1                2                3               1   \n",
       "6373            59       0                2                3               1   \n",
       "9639            49       0                3                6               2   \n",
       "7932            39       1                3                0               1   \n",
       "4796            44       0                3                2               1   \n",
       "\n",
       "      Income_Category  Card_Category  Months_on_book  \\\n",
       "4133                3              0              32   \n",
       "6373                1              0              36   \n",
       "9639                4              0              37   \n",
       "7932                3              0              30   \n",
       "4796                4              0              36   \n",
       "\n",
       "      Total_Relationship_Count  Months_Inactive_12_mon  Contacts_Count_12_mon  \\\n",
       "4133                         1                       2                      4   \n",
       "6373                         3                       3                      3   \n",
       "9639                         2                       2                      2   \n",
       "7932                         2                       3                      3   \n",
       "4796                         6                       3                      4   \n",
       "\n",
       "      Credit_Limit  Total_Revolving_Bal  Avg_Open_To_Buy  \\\n",
       "4133       16362.0                 2268          14094.0   \n",
       "6373        4375.0                    0           4375.0   \n",
       "9639        5855.0                    0           5855.0   \n",
       "7932        4618.0                    0           4618.0   \n",
       "4796        1984.0                    0           1984.0   \n",
       "\n",
       "      Total_Amt_Chng_Q4_Q1  Total_Trans_Amt  Total_Trans_Ct  \\\n",
       "4133                 0.841             2228              37   \n",
       "6373                 0.621             2507              53   \n",
       "9639                 0.962             9202              80   \n",
       "7932                 0.717             2476              49   \n",
       "4796                 0.890             2506              46   \n",
       "\n",
       "      Total_Ct_Chng_Q4_Q1  Avg_Utilization_Ratio  Attrition_Flag  \n",
       "4133                0.850                  0.139               0  \n",
       "6373                0.472                  0.000               0  \n",
       "9639                0.860                  0.000               0  \n",
       "7932                0.750                  0.000               0  \n",
       "4796                0.643                  0.000               0  "
      ]
     },
     "execution_count": 52,
     "metadata": {},
     "output_type": "execute_result"
    }
   ],
   "source": [
    "final_test.head()"
   ]
  },
  {
   "cell_type": "markdown",
   "metadata": {},
   "source": [
    "### Base model with recall 78% for finding attrited customers"
   ]
  },
  {
   "cell_type": "code",
   "execution_count": 53,
   "metadata": {},
   "outputs": [
    {
     "data": {
      "text/plain": [
       "0.9624871531346352"
      ]
     },
     "execution_count": 53,
     "metadata": {},
     "output_type": "execute_result"
    }
   ],
   "source": [
    "np.random.seed(42)\n",
    "\n",
    "from sklearn.ensemble import RandomForestClassifier\n",
    "from sklearn.model_selection import train_test_split\n",
    "\n",
    "P = copy.drop(\"Attrition_Flag\", axis=1)\n",
    "J = copy[\"Attrition_Flag\"]\n",
    "\n",
    "l_train , l_test , m_train , m_test = train_test_split(P,J, test_size=0.2)\n",
    "\n",
    "clf1 = RandomForestClassifier(n_estimators=100)\n",
    "clf1.fit(l_train,m_train)\n",
    "clf1.score(l_test,m_test)"
   ]
  },
  {
   "cell_type": "code",
   "execution_count": 54,
   "metadata": {},
   "outputs": [],
   "source": [
    "preds1 = clf1.predict(l_test)"
   ]
  },
  {
   "cell_type": "code",
   "execution_count": 55,
   "metadata": {},
   "outputs": [
    {
     "name": "stdout",
     "output_type": "stream",
     "text": [
      "              precision    recall  f1-score   support\n",
      "\n",
      "           0       0.92      0.81      0.86       282\n",
      "           1       0.97      0.99      0.98      1664\n",
      "\n",
      "    accuracy                           0.96      1946\n",
      "   macro avg       0.94      0.90      0.92      1946\n",
      "weighted avg       0.96      0.96      0.96      1946\n",
      "\n"
     ]
    }
   ],
   "source": [
    "from sklearn.metrics import confusion_matrix, classification_report, accuracy_score, precision_score, recall_score, f1_score\n",
    "\n",
    "print(classification_report(m_test,preds1))"
   ]
  },
  {
   "cell_type": "code",
   "execution_count": 56,
   "metadata": {},
   "outputs": [
    {
     "data": {
      "text/plain": [
       "array([[ 229,   53],\n",
       "       [  20, 1644]], dtype=int64)"
      ]
     },
     "execution_count": 56,
     "metadata": {},
     "output_type": "execute_result"
    }
   ],
   "source": [
    "confusion_matrix(m_test,preds1)"
   ]
  },
  {
   "cell_type": "code",
   "execution_count": 57,
   "metadata": {},
   "outputs": [],
   "source": [
    "ft1 = final_test.drop(\"Attrition_Flag\",axis=1)\n",
    "ft2 = final_test[\"Attrition_Flag\"]"
   ]
  },
  {
   "cell_type": "code",
   "execution_count": 58,
   "metadata": {},
   "outputs": [
    {
     "name": "stdout",
     "output_type": "stream",
     "text": [
      "              precision    recall  f1-score   support\n",
      "\n",
      "           0       0.98      0.82      0.90       200\n",
      "           1       0.85      0.98      0.91       200\n",
      "\n",
      "    accuracy                           0.91       400\n",
      "   macro avg       0.92      0.91      0.90       400\n",
      "weighted avg       0.92      0.91      0.90       400\n",
      "\n"
     ]
    }
   ],
   "source": [
    "preds_on_finaltest = clf1.predict(ft1)\n",
    "print(classification_report(ft2,preds_on_finaltest))"
   ]
  },
  {
   "cell_type": "code",
   "execution_count": 59,
   "metadata": {},
   "outputs": [
    {
     "data": {
      "text/plain": [
       "array([[165,  35],\n",
       "       [  3, 197]], dtype=int64)"
      ]
     },
     "execution_count": 59,
     "metadata": {},
     "output_type": "execute_result"
    }
   ],
   "source": [
    "confusion_matrix(ft2,preds_on_finaltest)"
   ]
  },
  {
   "cell_type": "markdown",
   "metadata": {},
   "source": [
    "## Trying SMOTE for handling imbalanced dataset "
   ]
  },
  {
   "cell_type": "code",
   "execution_count": 60,
   "metadata": {},
   "outputs": [
    {
     "data": {
      "text/plain": [
       "(8300, 20)"
      ]
     },
     "execution_count": 60,
     "metadata": {},
     "output_type": "execute_result"
    }
   ],
   "source": [
    "existing_cus = copy[copy['Attrition_Flag']==1]\n",
    "existing_cus.shape"
   ]
  },
  {
   "cell_type": "code",
   "execution_count": 61,
   "metadata": {},
   "outputs": [
    {
     "data": {
      "text/plain": [
       "(1427, 20)"
      ]
     },
     "execution_count": 61,
     "metadata": {},
     "output_type": "execute_result"
    }
   ],
   "source": [
    "attr_cus = copy[copy['Attrition_Flag']==0]\n",
    "attr_cus.shape"
   ]
  },
  {
   "cell_type": "code",
   "execution_count": 62,
   "metadata": {},
   "outputs": [],
   "source": [
    "# Using imbalance library to handle this imbalanced dataset\n",
    "# from imblearn.over_sampling import RandomOverSampler"
   ]
  },
  {
   "cell_type": "code",
   "execution_count": 63,
   "metadata": {},
   "outputs": [],
   "source": [
    "# Implementing oversampling for handling imbalanced \n",
    "# Initial ratio of data is 1:5 (100 0's and 500 1's). then random_state=1 will make it 1:1 (500 0's and 500 1's) . random_state=0.5 will make it 1:2 (250 0's and 500 1's).\n",
    "# ros = RandomOverSampler(sampling_strategy=1,random_state=10)\n",
    "# P_new,J_new = ros.fit_sample(P,J)"
   ]
  },
  {
   "cell_type": "code",
   "execution_count": 64,
   "metadata": {},
   "outputs": [
    {
     "data": {
      "text/plain": [
       "(1427, 20)"
      ]
     },
     "execution_count": 64,
     "metadata": {},
     "output_type": "execute_result"
    }
   ],
   "source": [
    "attr_cus.shape"
   ]
  },
  {
   "cell_type": "code",
   "execution_count": 65,
   "metadata": {},
   "outputs": [
    {
     "data": {
      "text/plain": [
       "(7135, 20)"
      ]
     },
     "execution_count": 65,
     "metadata": {},
     "output_type": "execute_result"
    }
   ],
   "source": [
    "add_attr_cus = pd.concat([attr_cus,attr_cus,attr_cus,attr_cus,attr_cus],axis=0)\n",
    "add_attr_cus.shape"
   ]
  },
  {
   "cell_type": "code",
   "execution_count": 66,
   "metadata": {},
   "outputs": [
    {
     "data": {
      "text/plain": [
       "(8300, 20)"
      ]
     },
     "execution_count": 66,
     "metadata": {},
     "output_type": "execute_result"
    }
   ],
   "source": [
    "existing_cus.shape"
   ]
  },
  {
   "cell_type": "code",
   "execution_count": 67,
   "metadata": {},
   "outputs": [
    {
     "data": {
      "text/plain": [
       "(15435, 20)"
      ]
     },
     "execution_count": 67,
     "metadata": {},
     "output_type": "execute_result"
    }
   ],
   "source": [
    "bal_data = pd.concat([existing_cus,add_attr_cus],axis=0)\n",
    "bal_data.shape"
   ]
  },
  {
   "cell_type": "code",
   "execution_count": 68,
   "metadata": {},
   "outputs": [],
   "source": [
    "np.random.seed(11)\n",
    "bal_data2 = bal_data.sample(frac=1)"
   ]
  },
  {
   "cell_type": "code",
   "execution_count": 69,
   "metadata": {},
   "outputs": [
    {
     "data": {
      "text/html": [
       "<div>\n",
       "<style scoped>\n",
       "    .dataframe tbody tr th:only-of-type {\n",
       "        vertical-align: middle;\n",
       "    }\n",
       "\n",
       "    .dataframe tbody tr th {\n",
       "        vertical-align: top;\n",
       "    }\n",
       "\n",
       "    .dataframe thead th {\n",
       "        text-align: right;\n",
       "    }\n",
       "</style>\n",
       "<table border=\"1\" class=\"dataframe\">\n",
       "  <thead>\n",
       "    <tr style=\"text-align: right;\">\n",
       "      <th></th>\n",
       "      <th>Customer_Age</th>\n",
       "      <th>Gender</th>\n",
       "      <th>Dependent_count</th>\n",
       "      <th>Education_Level</th>\n",
       "      <th>Marital_Status</th>\n",
       "      <th>Income_Category</th>\n",
       "      <th>Card_Category</th>\n",
       "      <th>Months_on_book</th>\n",
       "      <th>Total_Relationship_Count</th>\n",
       "      <th>Months_Inactive_12_mon</th>\n",
       "      <th>Contacts_Count_12_mon</th>\n",
       "      <th>Credit_Limit</th>\n",
       "      <th>Total_Revolving_Bal</th>\n",
       "      <th>Avg_Open_To_Buy</th>\n",
       "      <th>Total_Amt_Chng_Q4_Q1</th>\n",
       "      <th>Total_Trans_Amt</th>\n",
       "      <th>Total_Trans_Ct</th>\n",
       "      <th>Total_Ct_Chng_Q4_Q1</th>\n",
       "      <th>Avg_Utilization_Ratio</th>\n",
       "      <th>Attrition_Flag</th>\n",
       "    </tr>\n",
       "  </thead>\n",
       "  <tbody>\n",
       "    <tr>\n",
       "      <th>5177</th>\n",
       "      <td>34</td>\n",
       "      <td>0</td>\n",
       "      <td>2</td>\n",
       "      <td>2</td>\n",
       "      <td>1</td>\n",
       "      <td>4</td>\n",
       "      <td>0</td>\n",
       "      <td>29</td>\n",
       "      <td>5</td>\n",
       "      <td>2</td>\n",
       "      <td>2</td>\n",
       "      <td>5845.0</td>\n",
       "      <td>0</td>\n",
       "      <td>5845.0</td>\n",
       "      <td>0.504</td>\n",
       "      <td>2308</td>\n",
       "      <td>35</td>\n",
       "      <td>0.591</td>\n",
       "      <td>0.000</td>\n",
       "      <td>0</td>\n",
       "    </tr>\n",
       "    <tr>\n",
       "      <th>88</th>\n",
       "      <td>44</td>\n",
       "      <td>1</td>\n",
       "      <td>3</td>\n",
       "      <td>3</td>\n",
       "      <td>2</td>\n",
       "      <td>2</td>\n",
       "      <td>0</td>\n",
       "      <td>31</td>\n",
       "      <td>4</td>\n",
       "      <td>3</td>\n",
       "      <td>1</td>\n",
       "      <td>12756.0</td>\n",
       "      <td>837</td>\n",
       "      <td>11919.0</td>\n",
       "      <td>1.932</td>\n",
       "      <td>1413</td>\n",
       "      <td>14</td>\n",
       "      <td>1.800</td>\n",
       "      <td>0.066</td>\n",
       "      <td>1</td>\n",
       "    </tr>\n",
       "    <tr>\n",
       "      <th>9691</th>\n",
       "      <td>47</td>\n",
       "      <td>0</td>\n",
       "      <td>4</td>\n",
       "      <td>3</td>\n",
       "      <td>3</td>\n",
       "      <td>5</td>\n",
       "      <td>0</td>\n",
       "      <td>42</td>\n",
       "      <td>3</td>\n",
       "      <td>3</td>\n",
       "      <td>2</td>\n",
       "      <td>16998.0</td>\n",
       "      <td>1404</td>\n",
       "      <td>15594.0</td>\n",
       "      <td>0.785</td>\n",
       "      <td>13977</td>\n",
       "      <td>127</td>\n",
       "      <td>0.693</td>\n",
       "      <td>0.083</td>\n",
       "      <td>1</td>\n",
       "    </tr>\n",
       "    <tr>\n",
       "      <th>7529</th>\n",
       "      <td>41</td>\n",
       "      <td>0</td>\n",
       "      <td>2</td>\n",
       "      <td>0</td>\n",
       "      <td>0</td>\n",
       "      <td>4</td>\n",
       "      <td>0</td>\n",
       "      <td>36</td>\n",
       "      <td>3</td>\n",
       "      <td>3</td>\n",
       "      <td>4</td>\n",
       "      <td>1569.0</td>\n",
       "      <td>257</td>\n",
       "      <td>1312.0</td>\n",
       "      <td>0.408</td>\n",
       "      <td>2288</td>\n",
       "      <td>45</td>\n",
       "      <td>0.667</td>\n",
       "      <td>0.164</td>\n",
       "      <td>0</td>\n",
       "    </tr>\n",
       "    <tr>\n",
       "      <th>30</th>\n",
       "      <td>53</td>\n",
       "      <td>1</td>\n",
       "      <td>3</td>\n",
       "      <td>6</td>\n",
       "      <td>1</td>\n",
       "      <td>3</td>\n",
       "      <td>0</td>\n",
       "      <td>33</td>\n",
       "      <td>3</td>\n",
       "      <td>2</td>\n",
       "      <td>3</td>\n",
       "      <td>2753.0</td>\n",
       "      <td>1811</td>\n",
       "      <td>942.0</td>\n",
       "      <td>0.977</td>\n",
       "      <td>1038</td>\n",
       "      <td>25</td>\n",
       "      <td>2.571</td>\n",
       "      <td>0.658</td>\n",
       "      <td>1</td>\n",
       "    </tr>\n",
       "  </tbody>\n",
       "</table>\n",
       "</div>"
      ],
      "text/plain": [
       "      Customer_Age  Gender  Dependent_count  Education_Level  Marital_Status  \\\n",
       "5177            34       0                2                2               1   \n",
       "88              44       1                3                3               2   \n",
       "9691            47       0                4                3               3   \n",
       "7529            41       0                2                0               0   \n",
       "30              53       1                3                6               1   \n",
       "\n",
       "      Income_Category  Card_Category  Months_on_book  \\\n",
       "5177                4              0              29   \n",
       "88                  2              0              31   \n",
       "9691                5              0              42   \n",
       "7529                4              0              36   \n",
       "30                  3              0              33   \n",
       "\n",
       "      Total_Relationship_Count  Months_Inactive_12_mon  Contacts_Count_12_mon  \\\n",
       "5177                         5                       2                      2   \n",
       "88                           4                       3                      1   \n",
       "9691                         3                       3                      2   \n",
       "7529                         3                       3                      4   \n",
       "30                           3                       2                      3   \n",
       "\n",
       "      Credit_Limit  Total_Revolving_Bal  Avg_Open_To_Buy  \\\n",
       "5177        5845.0                    0           5845.0   \n",
       "88         12756.0                  837          11919.0   \n",
       "9691       16998.0                 1404          15594.0   \n",
       "7529        1569.0                  257           1312.0   \n",
       "30          2753.0                 1811            942.0   \n",
       "\n",
       "      Total_Amt_Chng_Q4_Q1  Total_Trans_Amt  Total_Trans_Ct  \\\n",
       "5177                 0.504             2308              35   \n",
       "88                   1.932             1413              14   \n",
       "9691                 0.785            13977             127   \n",
       "7529                 0.408             2288              45   \n",
       "30                   0.977             1038              25   \n",
       "\n",
       "      Total_Ct_Chng_Q4_Q1  Avg_Utilization_Ratio  Attrition_Flag  \n",
       "5177                0.591                  0.000               0  \n",
       "88                  1.800                  0.066               1  \n",
       "9691                0.693                  0.083               1  \n",
       "7529                0.667                  0.164               0  \n",
       "30                  2.571                  0.658               1  "
      ]
     },
     "execution_count": 69,
     "metadata": {},
     "output_type": "execute_result"
    }
   ],
   "source": [
    "np.random.seed(12)\n",
    "bal_data2 = bal_data2.sample(frac=1)\n",
    "bal_data2.head()"
   ]
  },
  {
   "cell_type": "markdown",
   "metadata": {},
   "source": [
    "## Fitting RandomForestClassifier "
   ]
  },
  {
   "cell_type": "code",
   "execution_count": 70,
   "metadata": {},
   "outputs": [
    {
     "data": {
      "text/plain": [
       "0.9867184969225785"
      ]
     },
     "execution_count": 70,
     "metadata": {},
     "output_type": "execute_result"
    }
   ],
   "source": [
    "np.random.seed(42)\n",
    "\n",
    "from sklearn.ensemble import RandomForestClassifier\n",
    "from sklearn.model_selection import train_test_split, cross_val_score\n",
    "\n",
    "E = bal_data2.drop(\"Attrition_Flag\", axis=1)\n",
    "F = bal_data2[\"Attrition_Flag\"]\n",
    "\n",
    "e_train , e_test , f_train , f_test = train_test_split(E,F, test_size=0.2)\n",
    "\n",
    "clf2 = RandomForestClassifier(n_estimators=100)\n",
    "clf2.fit(e_train,f_train)\n",
    "clf2.score(e_test,f_test)"
   ]
  },
  {
   "cell_type": "code",
   "execution_count": 71,
   "metadata": {},
   "outputs": [],
   "source": [
    "preds2 = clf1.predict(e_test)"
   ]
  },
  {
   "cell_type": "code",
   "execution_count": 72,
   "metadata": {},
   "outputs": [
    {
     "name": "stdout",
     "output_type": "stream",
     "text": [
      "              precision    recall  f1-score   support\n",
      "\n",
      "           0       1.00      0.96      0.98      1417\n",
      "           1       0.97      1.00      0.98      1670\n",
      "\n",
      "    accuracy                           0.98      3087\n",
      "   macro avg       0.98      0.98      0.98      3087\n",
      "weighted avg       0.98      0.98      0.98      3087\n",
      "\n"
     ]
    }
   ],
   "source": [
    "from sklearn.metrics import confusion_matrix, classification_report, accuracy_score, precision_score, recall_score, f1_score\n",
    "\n",
    "print(classification_report(f_test,preds2))"
   ]
  },
  {
   "cell_type": "markdown",
   "metadata": {},
   "source": [
    "## Making prediction on final test on the basis of clf2"
   ]
  },
  {
   "cell_type": "code",
   "execution_count": 73,
   "metadata": {},
   "outputs": [
    {
     "name": "stdout",
     "output_type": "stream",
     "text": [
      "              precision    recall  f1-score   support\n",
      "\n",
      "           0       0.97      0.91      0.94       200\n",
      "           1       0.92      0.97      0.94       200\n",
      "\n",
      "    accuracy                           0.94       400\n",
      "   macro avg       0.94      0.94      0.94       400\n",
      "weighted avg       0.94      0.94      0.94       400\n",
      "\n"
     ]
    }
   ],
   "source": [
    "preds_on_finaltest2 = clf2.predict(ft1)\n",
    "print(classification_report(ft2,preds_on_finaltest2))"
   ]
  },
  {
   "cell_type": "code",
   "execution_count": 74,
   "metadata": {},
   "outputs": [
    {
     "data": {
      "text/plain": [
       "0.9856655893402074"
      ]
     },
     "execution_count": 74,
     "metadata": {},
     "output_type": "execute_result"
    }
   ],
   "source": [
    "# Cross-validated accuracy\n",
    "cv_acc = cross_val_score(clf2,\n",
    "                         e_train,\n",
    "                         f_train,\n",
    "                         cv=5,\n",
    "                         scoring=\"accuracy\")\n",
    "cv_acc = np.mean(cv_acc)\n",
    "cv_acc"
   ]
  },
  {
   "cell_type": "code",
   "execution_count": 75,
   "metadata": {},
   "outputs": [
    {
     "data": {
      "text/plain": [
       "0.9986057303188908"
      ]
     },
     "execution_count": 75,
     "metadata": {},
     "output_type": "execute_result"
    }
   ],
   "source": [
    "# Cross-validated precision\n",
    "cv_prec = cross_val_score(clf2,\n",
    "                         e_train,\n",
    "                         f_train,\n",
    "                         cv=5,\n",
    "                         scoring=\"precision\")\n",
    "cv_prec = np.mean(cv_prec)\n",
    "cv_prec"
   ]
  },
  {
   "cell_type": "code",
   "execution_count": 76,
   "metadata": {},
   "outputs": [
    {
     "data": {
      "text/plain": [
       "0.9751131221719456"
      ]
     },
     "execution_count": 76,
     "metadata": {},
     "output_type": "execute_result"
    }
   ],
   "source": [
    "# Cross-validated recall\n",
    "cv_rec = cross_val_score(clf2,\n",
    "                         e_train,\n",
    "                         f_train,\n",
    "                         cv=5,\n",
    "                         scoring=\"recall\")\n",
    "cv_rec = np.mean(cv_rec)\n",
    "cv_rec"
   ]
  },
  {
   "cell_type": "code",
   "execution_count": 77,
   "metadata": {},
   "outputs": [
    {
     "data": {
      "text/plain": [
       "0.9865662161585416"
      ]
     },
     "execution_count": 77,
     "metadata": {},
     "output_type": "execute_result"
    }
   ],
   "source": [
    "# Cross-validated f1-score\n",
    "cv_f1 = cross_val_score(clf2,\n",
    "                         e_train,\n",
    "                         f_train,\n",
    "                         cv=5,\n",
    "                         scoring=\"f1\")\n",
    "cv_f1 = np.mean(cv_f1)\n",
    "cv_f1"
   ]
  },
  {
   "cell_type": "code",
   "execution_count": 78,
   "metadata": {},
   "outputs": [
    {
     "data": {
      "image/png": "[encoded data removed]",
      "text/plain": [
       "<Figure size 432x288 with 1 Axes>"
      ]
     },
     "metadata": {
      "needs_background": "light"
     },
     "output_type": "display_data"
    }
   ],
   "source": [
    "# Visualize cross-validated metrics\n",
    "cv_metrics = pd.DataFrame({\"Accuracy\":cv_acc,\n",
    "                           \"Precision\":cv_prec,\n",
    "                           \"Recall\":cv_rec,\n",
    "                           \"F1-Score\":cv_f1},\n",
    "                          index=[0])\n",
    "cv_metrics.T.plot.bar(title=\"Cross-validated Metrics\",\n",
    "                      legend=False);"
   ]
  },
  {
   "cell_type": "code",
   "execution_count": 79,
   "metadata": {},
   "outputs": [
    {
     "data": {
      "text/plain": [
       "array([[182,  18],\n",
       "       [  5, 195]], dtype=int64)"
      ]
     },
     "execution_count": 79,
     "metadata": {},
     "output_type": "execute_result"
    }
   ],
   "source": [
    "confusion_matrix(ft2,preds_on_finaltest2)"
   ]
  },
  {
   "cell_type": "code",
   "execution_count": 80,
   "metadata": {},
   "outputs": [
    {
     "data": {
      "image/png": "[encoded data removed]",
      "text/plain": [
       "<Figure size 216x216 with 2 Axes>"
      ]
     },
     "metadata": {},
     "output_type": "display_data"
    }
   ],
   "source": [
    "# Drawing confusion matrix\n",
    "\n",
    "sns.set(font_scale=1.5)\n",
    "\n",
    "def plot_conf_mat(ft2,preds_on_finaltest2):\n",
    "    # Plot a confusion matrix using Seaborn's heatmap()\n",
    "    fig,ax = plt.subplots(figsize=(3,3))\n",
    "    ax = sns.heatmap(confusion_matrix(ft2,preds_on_finaltest2),\n",
    "                     annot=True,    # annot is true then only the numbers will appear in matrix otherwise won't\n",
    "                     cbar=True,     # Color bar on right will be shown if true\n",
    "                     fmt='g')       # By default .2g was showing error, so it is set to g\n",
    "    plt.xlabel(\"True label\")\n",
    "    plt.ylabel(\"Predicted label\")\n",
    "      \n",
    "\n",
    "plot_conf_mat(ft2,preds_on_finaltest2)"
   ]
  },
  {
   "cell_type": "code",
   "execution_count": 81,
   "metadata": {},
   "outputs": [
    {
     "data": {
      "text/plain": [
       "numpy.ndarray"
      ]
     },
     "execution_count": 81,
     "metadata": {},
     "output_type": "execute_result"
    }
   ],
   "source": [
    "type(preds_on_finaltest2)"
   ]
  },
  {
   "cell_type": "code",
   "execution_count": 82,
   "metadata": {},
   "outputs": [
    {
     "data": {
      "text/plain": [
       "array([0, 0, 0, 0, 0, 0, 0, 0, 0, 0, 0, 0, 0, 0, 1, 0, 0, 0, 0, 0, 0, 0,\n",
       "       1, 0, 1, 0, 0, 0, 0, 0, 1, 0, 0, 0, 1, 0, 0, 0, 0, 0, 1, 0, 0, 0,\n",
       "       0, 0, 0, 0, 0, 0, 0, 0, 0, 1, 0, 0, 0, 0, 0, 0, 0, 0, 0, 0, 0, 0,\n",
       "       0, 0, 0, 1, 0, 0, 0, 0, 0, 0, 0, 0, 0, 0, 0, 0, 0, 0, 0, 0, 0, 0,\n",
       "       0, 0, 0, 0, 0, 0, 0, 0, 0, 1, 0, 0, 0, 0, 1, 0, 0, 0, 0, 0, 0, 0,\n",
       "       0, 0, 0, 0, 0, 0, 0, 0, 0, 0, 1, 0, 0, 0, 0, 0, 0, 0, 0, 0, 0, 0,\n",
       "       0, 0, 1, 0, 0, 0, 0, 1, 0, 0, 0, 0, 0, 0, 0, 0, 0, 0, 0, 0, 0, 0,\n",
       "       0, 0, 0, 1, 0, 0, 1, 0, 0, 1, 0, 0, 0, 0, 0, 0, 0, 0, 0, 0, 0, 0,\n",
       "       1, 0, 0, 0, 0, 0, 0, 0, 0, 0, 0, 0, 0, 0, 0, 0, 0, 0, 1, 0, 0, 0,\n",
       "       0, 0, 1, 1, 1, 1, 1, 1, 1, 1, 1, 1, 1, 1, 1, 1, 1, 1, 1, 1, 1, 1,\n",
       "       1, 1, 1, 1, 1, 1, 1, 1, 1, 1, 1, 1, 1, 1, 1, 1, 1, 1, 1, 1, 1, 1,\n",
       "       1, 1, 1, 1, 1, 1, 1, 1, 1, 1, 1, 1, 1, 1, 1, 0, 1, 1, 1, 1, 1, 1,\n",
       "       1, 1, 1, 1, 1, 1, 1, 1, 1, 1, 1, 1, 1, 1, 1, 1, 1, 1, 1, 1, 1, 1,\n",
       "       1, 1, 1, 1, 1, 1, 1, 1, 1, 1, 0, 1, 1, 1, 0, 1, 1, 1, 1, 1, 1, 0,\n",
       "       1, 1, 1, 1, 1, 1, 1, 1, 1, 1, 1, 1, 1, 1, 1, 1, 1, 1, 1, 1, 1, 1,\n",
       "       1, 1, 1, 1, 1, 1, 1, 1, 1, 1, 1, 1, 1, 1, 1, 1, 1, 0, 1, 1, 1, 1,\n",
       "       1, 1, 1, 1, 1, 1, 1, 1, 1, 1, 1, 1, 1, 1, 1, 1, 1, 1, 1, 1, 1, 1,\n",
       "       1, 1, 1, 1, 1, 1, 1, 1, 1, 1, 1, 1, 1, 1, 1, 1, 1, 1, 1, 1, 1, 1,\n",
       "       1, 1, 1, 1], dtype=int64)"
      ]
     },
     "execution_count": 82,
     "metadata": {},
     "output_type": "execute_result"
    }
   ],
   "source": [
    "preds_on_finaltest2"
   ]
  },
  {
   "cell_type": "code",
   "execution_count": 83,
   "metadata": {},
   "outputs": [
    {
     "data": {
      "text/plain": [
       "<sklearn.metrics._plot.roc_curve.RocCurveDisplay at 0xb9f4f40>"
      ]
     },
     "execution_count": 83,
     "metadata": {},
     "output_type": "execute_result"
    },
    {
     "data": {
      "image/png": "[encoded data removed]",
      "text/plain": [
       "<Figure size 432x288 with 1 Axes>"
      ]
     },
     "metadata": {},
     "output_type": "display_data"
    }
   ],
   "source": [
    "# Plot ROC curve. ROC curve plots True positive rate vs False positive rate\n",
    "from sklearn.metrics import plot_roc_curve\n",
    "\n",
    "plot_roc_curve(clf2,ft1,ft2)"
   ]
  },
  {
   "cell_type": "markdown",
   "metadata": {},
   "source": [
    "## Controlling trade off between Precision and Recall manually. Thus, improved recall for finding attrited customers by 5% and finally got 95% recall for finding attrited customers."
   ]
  },
  {
   "cell_type": "code",
   "execution_count": 84,
   "metadata": {},
   "outputs": [
    {
     "data": {
      "text/plain": [
       "(400, 2)"
      ]
     },
     "execution_count": 84,
     "metadata": {},
     "output_type": "execute_result"
    }
   ],
   "source": [
    "preds_on_finaltest3 = clf2.predict_proba(ft1)\n",
    "preds_on_finaltest3.shape"
   ]
  },
  {
   "cell_type": "code",
   "execution_count": 85,
   "metadata": {},
   "outputs": [
    {
     "data": {
      "text/plain": [
       "array([[0.73, 0.27],\n",
       "       [0.91, 0.09],\n",
       "       [0.85, 0.15],\n",
       "       [0.97, 0.03],\n",
       "       [0.99, 0.01],\n",
       "       [0.84, 0.16],\n",
       "       [0.73, 0.27],\n",
       "       [0.73, 0.27],\n",
       "       [0.77, 0.23],\n",
       "       [0.57, 0.43],\n",
       "       [0.59, 0.41],\n",
       "       [0.98, 0.02],\n",
       "       [0.93, 0.07],\n",
       "       [1.  , 0.  ],\n",
       "       [0.13, 0.87],\n",
       "       [0.58, 0.42],\n",
       "       [0.63, 0.37],\n",
       "       [0.72, 0.28],\n",
       "       [0.86, 0.14],\n",
       "       [0.88, 0.12],\n",
       "       [0.96, 0.04],\n",
       "       [0.96, 0.04],\n",
       "       [0.33, 0.67],\n",
       "       [1.  , 0.  ],\n",
       "       [0.46, 0.54],\n",
       "       [0.93, 0.07],\n",
       "       [0.76, 0.24],\n",
       "       [1.  , 0.  ],\n",
       "       [0.92, 0.08],\n",
       "       [0.63, 0.37],\n",
       "       [0.44, 0.56],\n",
       "       [0.89, 0.11],\n",
       "       [0.93, 0.07],\n",
       "       [0.96, 0.04],\n",
       "       [0.09, 0.91],\n",
       "       [1.  , 0.  ],\n",
       "       [0.89, 0.11],\n",
       "       [1.  , 0.  ],\n",
       "       [0.83, 0.17],\n",
       "       [0.85, 0.15],\n",
       "       [0.18, 0.82],\n",
       "       [0.95, 0.05],\n",
       "       [0.9 , 0.1 ],\n",
       "       [0.86, 0.14],\n",
       "       [0.98, 0.02],\n",
       "       [0.88, 0.12],\n",
       "       [0.98, 0.02],\n",
       "       [0.94, 0.06],\n",
       "       [0.92, 0.08],\n",
       "       [0.76, 0.24],\n",
       "       [0.83, 0.17],\n",
       "       [0.86, 0.14],\n",
       "       [0.99, 0.01],\n",
       "       [0.2 , 0.8 ],\n",
       "       [0.89, 0.11],\n",
       "       [0.57, 0.43],\n",
       "       [0.83, 0.17],\n",
       "       [0.97, 0.03],\n",
       "       [0.97, 0.03],\n",
       "       [0.99, 0.01],\n",
       "       [0.98, 0.02],\n",
       "       [0.9 , 0.1 ],\n",
       "       [0.7 , 0.3 ],\n",
       "       [0.77, 0.23],\n",
       "       [0.74, 0.26],\n",
       "       [0.78, 0.22],\n",
       "       [0.94, 0.06],\n",
       "       [0.94, 0.06],\n",
       "       [1.  , 0.  ],\n",
       "       [0.27, 0.73],\n",
       "       [0.83, 0.17],\n",
       "       [0.81, 0.19],\n",
       "       [0.66, 0.34],\n",
       "       [0.78, 0.22],\n",
       "       [0.86, 0.14],\n",
       "       [0.62, 0.38],\n",
       "       [0.71, 0.29],\n",
       "       [0.92, 0.08],\n",
       "       [0.83, 0.17],\n",
       "       [0.85, 0.15],\n",
       "       [1.  , 0.  ],\n",
       "       [0.96, 0.04],\n",
       "       [0.87, 0.13],\n",
       "       [0.63, 0.37],\n",
       "       [0.97, 0.03],\n",
       "       [0.9 , 0.1 ],\n",
       "       [0.83, 0.17],\n",
       "       [0.92, 0.08],\n",
       "       [0.93, 0.07],\n",
       "       [0.86, 0.14],\n",
       "       [0.92, 0.08],\n",
       "       [0.96, 0.04],\n",
       "       [0.83, 0.17],\n",
       "       [0.79, 0.21],\n",
       "       [0.77, 0.23],\n",
       "       [0.59, 0.41],\n",
       "       [0.94, 0.06],\n",
       "       [0.45, 0.55],\n",
       "       [0.8 , 0.2 ],\n",
       "       [0.89, 0.11],\n",
       "       [0.88, 0.12],\n",
       "       [0.55, 0.45],\n",
       "       [0.25, 0.75],\n",
       "       [0.94, 0.06],\n",
       "       [0.99, 0.01],\n",
       "       [0.96, 0.04],\n",
       "       [0.84, 0.16],\n",
       "       [0.95, 0.05],\n",
       "       [0.74, 0.26],\n",
       "       [0.84, 0.16],\n",
       "       [0.98, 0.02],\n",
       "       [0.98, 0.02],\n",
       "       [0.66, 0.34],\n",
       "       [0.56, 0.44],\n",
       "       [0.96, 0.04],\n",
       "       [0.67, 0.33],\n",
       "       [1.  , 0.  ],\n",
       "       [0.89, 0.11],\n",
       "       [0.92, 0.08],\n",
       "       [0.86, 0.14],\n",
       "       [0.36, 0.64],\n",
       "       [0.94, 0.06],\n",
       "       [0.58, 0.42],\n",
       "       [0.99, 0.01],\n",
       "       [0.99, 0.01],\n",
       "       [0.99, 0.01],\n",
       "       [0.6 , 0.4 ],\n",
       "       [0.79, 0.21],\n",
       "       [0.81, 0.19],\n",
       "       [0.58, 0.42],\n",
       "       [0.76, 0.24],\n",
       "       [0.81, 0.19],\n",
       "       [0.87, 0.13],\n",
       "       [0.66, 0.34],\n",
       "       [0.02, 0.98],\n",
       "       [0.75, 0.25],\n",
       "       [0.63, 0.37],\n",
       "       [0.99, 0.01],\n",
       "       [0.92, 0.08],\n",
       "       [0.4 , 0.6 ],\n",
       "       [0.99, 0.01],\n",
       "       [0.72, 0.28],\n",
       "       [0.79, 0.21],\n",
       "       [0.88, 0.12],\n",
       "       [0.71, 0.29],\n",
       "       [0.94, 0.06],\n",
       "       [0.64, 0.36],\n",
       "       [0.79, 0.21],\n",
       "       [0.81, 0.19],\n",
       "       [0.87, 0.13],\n",
       "       [0.74, 0.26],\n",
       "       [0.74, 0.26],\n",
       "       [0.81, 0.19],\n",
       "       [0.93, 0.07],\n",
       "       [0.77, 0.23],\n",
       "       [0.73, 0.27],\n",
       "       [0.93, 0.07],\n",
       "       [0.25, 0.75],\n",
       "       [0.57, 0.43],\n",
       "       [0.5 , 0.5 ],\n",
       "       [0.04, 0.96],\n",
       "       [0.97, 0.03],\n",
       "       [0.82, 0.18],\n",
       "       [0.42, 0.58],\n",
       "       [0.71, 0.29],\n",
       "       [0.5 , 0.5 ],\n",
       "       [0.91, 0.09],\n",
       "       [0.78, 0.22],\n",
       "       [0.95, 0.05],\n",
       "       [0.96, 0.04],\n",
       "       [0.93, 0.07],\n",
       "       [0.64, 0.36],\n",
       "       [0.57, 0.43],\n",
       "       [1.  , 0.  ],\n",
       "       [0.84, 0.16],\n",
       "       [0.92, 0.08],\n",
       "       [0.49, 0.51],\n",
       "       [0.91, 0.09],\n",
       "       [0.99, 0.01],\n",
       "       [0.98, 0.02],\n",
       "       [0.98, 0.02],\n",
       "       [0.96, 0.04],\n",
       "       [0.73, 0.27],\n",
       "       [0.99, 0.01],\n",
       "       [0.98, 0.02],\n",
       "       [0.87, 0.13],\n",
       "       [0.99, 0.01],\n",
       "       [0.93, 0.07],\n",
       "       [0.92, 0.08],\n",
       "       [0.97, 0.03],\n",
       "       [0.86, 0.14],\n",
       "       [0.93, 0.07],\n",
       "       [0.76, 0.24],\n",
       "       [0.86, 0.14],\n",
       "       [0.39, 0.61],\n",
       "       [0.69, 0.31],\n",
       "       [1.  , 0.  ],\n",
       "       [0.75, 0.25],\n",
       "       [0.83, 0.17],\n",
       "       [0.95, 0.05],\n",
       "       [0.  , 1.  ],\n",
       "       [0.13, 0.87],\n",
       "       [0.23, 0.77],\n",
       "       [0.  , 1.  ],\n",
       "       [0.09, 0.91],\n",
       "       [0.02, 0.98],\n",
       "       [0.09, 0.91],\n",
       "       [0.01, 0.99],\n",
       "       [0.  , 1.  ],\n",
       "       [0.01, 0.99],\n",
       "       [0.07, 0.93],\n",
       "       [0.03, 0.97],\n",
       "       [0.02, 0.98],\n",
       "       [0.  , 1.  ],\n",
       "       [0.03, 0.97],\n",
       "       [0.04, 0.96],\n",
       "       [0.01, 0.99],\n",
       "       [0.03, 0.97],\n",
       "       [0.  , 1.  ],\n",
       "       [0.06, 0.94],\n",
       "       [0.01, 0.99],\n",
       "       [0.01, 0.99],\n",
       "       [0.  , 1.  ],\n",
       "       [0.  , 1.  ],\n",
       "       [0.46, 0.54],\n",
       "       [0.  , 1.  ],\n",
       "       [0.16, 0.84],\n",
       "       [0.02, 0.98],\n",
       "       [0.  , 1.  ],\n",
       "       [0.01, 0.99],\n",
       "       [0.  , 1.  ],\n",
       "       [0.01, 0.99],\n",
       "       [0.08, 0.92],\n",
       "       [0.26, 0.74],\n",
       "       [0.07, 0.93],\n",
       "       [0.04, 0.96],\n",
       "       [0.28, 0.72],\n",
       "       [0.05, 0.95],\n",
       "       [0.  , 1.  ],\n",
       "       [0.22, 0.78],\n",
       "       [0.08, 0.92],\n",
       "       [0.1 , 0.9 ],\n",
       "       [0.  , 1.  ],\n",
       "       [0.02, 0.98],\n",
       "       [0.  , 1.  ],\n",
       "       [0.  , 1.  ],\n",
       "       [0.  , 1.  ],\n",
       "       [0.13, 0.87],\n",
       "       [0.01, 0.99],\n",
       "       [0.01, 0.99],\n",
       "       [0.25, 0.75],\n",
       "       [0.18, 0.82],\n",
       "       [0.  , 1.  ],\n",
       "       [0.01, 0.99],\n",
       "       [0.06, 0.94],\n",
       "       [0.  , 1.  ],\n",
       "       [0.  , 1.  ],\n",
       "       [0.58, 0.42],\n",
       "       [0.01, 0.99],\n",
       "       [0.  , 1.  ],\n",
       "       [0.  , 1.  ],\n",
       "       [0.02, 0.98],\n",
       "       [0.04, 0.96],\n",
       "       [0.01, 0.99],\n",
       "       [0.  , 1.  ],\n",
       "       [0.  , 1.  ],\n",
       "       [0.  , 1.  ],\n",
       "       [0.01, 0.99],\n",
       "       [0.09, 0.91],\n",
       "       [0.  , 1.  ],\n",
       "       [0.  , 1.  ],\n",
       "       [0.08, 0.92],\n",
       "       [0.  , 1.  ],\n",
       "       [0.03, 0.97],\n",
       "       [0.03, 0.97],\n",
       "       [0.01, 0.99],\n",
       "       [0.  , 1.  ],\n",
       "       [0.01, 0.99],\n",
       "       [0.15, 0.85],\n",
       "       [0.07, 0.93],\n",
       "       [0.02, 0.98],\n",
       "       [0.28, 0.72],\n",
       "       [0.  , 1.  ],\n",
       "       [0.07, 0.93],\n",
       "       [0.  , 1.  ],\n",
       "       [0.02, 0.98],\n",
       "       [0.29, 0.71],\n",
       "       [0.01, 0.99],\n",
       "       [0.  , 1.  ],\n",
       "       [0.  , 1.  ],\n",
       "       [0.  , 1.  ],\n",
       "       [0.  , 1.  ],\n",
       "       [0.31, 0.69],\n",
       "       [0.  , 1.  ],\n",
       "       [0.12, 0.88],\n",
       "       [0.  , 1.  ],\n",
       "       [0.81, 0.19],\n",
       "       [0.  , 1.  ],\n",
       "       [0.03, 0.97],\n",
       "       [0.26, 0.74],\n",
       "       [0.9 , 0.1 ],\n",
       "       [0.  , 1.  ],\n",
       "       [0.01, 0.99],\n",
       "       [0.  , 1.  ],\n",
       "       [0.01, 0.99],\n",
       "       [0.3 , 0.7 ],\n",
       "       [0.29, 0.71],\n",
       "       [0.53, 0.47],\n",
       "       [0.05, 0.95],\n",
       "       [0.  , 1.  ],\n",
       "       [0.01, 0.99],\n",
       "       [0.  , 1.  ],\n",
       "       [0.  , 1.  ],\n",
       "       [0.01, 0.99],\n",
       "       [0.  , 1.  ],\n",
       "       [0.05, 0.95],\n",
       "       [0.  , 1.  ],\n",
       "       [0.1 , 0.9 ],\n",
       "       [0.  , 1.  ],\n",
       "       [0.01, 0.99],\n",
       "       [0.  , 1.  ],\n",
       "       [0.38, 0.62],\n",
       "       [0.  , 1.  ],\n",
       "       [0.06, 0.94],\n",
       "       [0.01, 0.99],\n",
       "       [0.  , 1.  ],\n",
       "       [0.  , 1.  ],\n",
       "       [0.19, 0.81],\n",
       "       [0.01, 0.99],\n",
       "       [0.03, 0.97],\n",
       "       [0.01, 0.99],\n",
       "       [0.  , 1.  ],\n",
       "       [0.35, 0.65],\n",
       "       [0.02, 0.98],\n",
       "       [0.  , 1.  ],\n",
       "       [0.02, 0.98],\n",
       "       [0.  , 1.  ],\n",
       "       [0.12, 0.88],\n",
       "       [0.03, 0.97],\n",
       "       [0.01, 0.99],\n",
       "       [0.  , 1.  ],\n",
       "       [0.11, 0.89],\n",
       "       [0.03, 0.97],\n",
       "       [0.43, 0.57],\n",
       "       [0.03, 0.97],\n",
       "       [0.41, 0.59],\n",
       "       [0.  , 1.  ],\n",
       "       [0.73, 0.27],\n",
       "       [0.  , 1.  ],\n",
       "       [0.08, 0.92],\n",
       "       [0.13, 0.87],\n",
       "       [0.01, 0.99],\n",
       "       [0.06, 0.94],\n",
       "       [0.01, 0.99],\n",
       "       [0.09, 0.91],\n",
       "       [0.  , 1.  ],\n",
       "       [0.02, 0.98],\n",
       "       [0.01, 0.99],\n",
       "       [0.01, 0.99],\n",
       "       [0.  , 1.  ],\n",
       "       [0.  , 1.  ],\n",
       "       [0.  , 1.  ],\n",
       "       [0.01, 0.99],\n",
       "       [0.  , 1.  ],\n",
       "       [0.  , 1.  ],\n",
       "       [0.  , 1.  ],\n",
       "       [0.01, 0.99],\n",
       "       [0.  , 1.  ],\n",
       "       [0.  , 1.  ],\n",
       "       [0.  , 1.  ],\n",
       "       [0.  , 1.  ],\n",
       "       [0.01, 0.99],\n",
       "       [0.06, 0.94],\n",
       "       [0.41, 0.59],\n",
       "       [0.  , 1.  ],\n",
       "       [0.  , 1.  ],\n",
       "       [0.03, 0.97],\n",
       "       [0.02, 0.98],\n",
       "       [0.04, 0.96],\n",
       "       [0.04, 0.96],\n",
       "       [0.12, 0.88],\n",
       "       [0.05, 0.95],\n",
       "       [0.01, 0.99],\n",
       "       [0.01, 0.99],\n",
       "       [0.16, 0.84],\n",
       "       [0.08, 0.92],\n",
       "       [0.04, 0.96],\n",
       "       [0.08, 0.92],\n",
       "       [0.02, 0.98],\n",
       "       [0.  , 1.  ],\n",
       "       [0.03, 0.97],\n",
       "       [0.33, 0.67],\n",
       "       [0.03, 0.97],\n",
       "       [0.01, 0.99],\n",
       "       [0.  , 1.  ],\n",
       "       [0.  , 1.  ],\n",
       "       [0.08, 0.92],\n",
       "       [0.18, 0.82],\n",
       "       [0.25, 0.75],\n",
       "       [0.1 , 0.9 ]])"
      ]
     },
     "execution_count": 85,
     "metadata": {},
     "output_type": "execute_result"
    }
   ],
   "source": [
    "preds_on_finaltest3"
   ]
  },
  {
   "cell_type": "code",
   "execution_count": 86,
   "metadata": {},
   "outputs": [
    {
     "data": {
      "text/plain": [
       "400"
      ]
     },
     "execution_count": 86,
     "metadata": {},
     "output_type": "execute_result"
    }
   ],
   "source": [
    "my_custom_pred = []\n",
    "for i in range(0,400):\n",
    "    for j in range(0,1):\n",
    "        if (preds_on_finaltest3[i][j]>0.35):\n",
    "            my_custom_pred.append(0)\n",
    "        else :\n",
    "            my_custom_pred.append(1)\n",
    "len(my_custom_pred)"
   ]
  },
  {
   "cell_type": "code",
   "execution_count": 87,
   "metadata": {},
   "outputs": [
    {
     "data": {
      "text/plain": [
       "matrix([[0, 0, 0, 0, 0, 0, 0, 0, 0, 0, 0, 0, 0, 0, 1, 0, 0, 0, 0, 0, 0,\n",
       "         0, 1, 0, 0, 0, 0, 0, 0, 0, 0, 0, 0, 0, 1, 0, 0, 0, 0, 0, 1, 0,\n",
       "         0, 0, 0, 0, 0, 0, 0, 0, 0, 0, 0, 1, 0, 0, 0, 0, 0, 0, 0, 0, 0,\n",
       "         0, 0, 0, 0, 0, 0, 1, 0, 0, 0, 0, 0, 0, 0, 0, 0, 0, 0, 0, 0, 0,\n",
       "         0, 0, 0, 0, 0, 0, 0, 0, 0, 0, 0, 0, 0, 0, 0, 0, 0, 0, 1, 0, 0,\n",
       "         0, 0, 0, 0, 0, 0, 0, 0, 0, 0, 0, 0, 0, 0, 0, 0, 0, 0, 0, 0, 0,\n",
       "         0, 0, 0, 0, 0, 0, 0, 0, 1, 0, 0, 0, 0, 0, 0, 0, 0, 0, 0, 0, 0,\n",
       "         0, 0, 0, 0, 0, 0, 0, 0, 0, 0, 1, 0, 0, 1, 0, 0, 0, 0, 0, 0, 0,\n",
       "         0, 0, 0, 0, 0, 0, 0, 0, 0, 0, 0, 0, 0, 0, 0, 0, 0, 0, 0, 0, 0,\n",
       "         0, 0, 0, 0, 0, 0, 0, 0, 0, 0, 0, 1, 1, 1, 1, 1, 1, 1, 1, 1, 1,\n",
       "         1, 1, 1, 1, 1, 1, 1, 1, 1, 1, 1, 1, 1, 1, 0, 1, 1, 1, 1, 1, 1,\n",
       "         1, 1, 1, 1, 1, 1, 1, 1, 1, 1, 1, 1, 1, 1, 1, 1, 1, 1, 1, 1, 1,\n",
       "         1, 1, 1, 1, 1, 0, 1, 1, 1, 1, 1, 1, 1, 1, 1, 1, 1, 1, 1, 1, 1,\n",
       "         1, 1, 1, 1, 1, 1, 1, 1, 1, 1, 1, 1, 1, 1, 1, 1, 1, 1, 1, 1, 1,\n",
       "         1, 1, 0, 1, 1, 1, 0, 1, 1, 1, 1, 1, 1, 0, 1, 1, 1, 1, 1, 1, 1,\n",
       "         1, 1, 1, 1, 1, 1, 0, 1, 1, 1, 1, 1, 1, 1, 1, 1, 1, 1, 1, 1, 1,\n",
       "         1, 1, 1, 1, 1, 1, 1, 0, 1, 0, 1, 0, 1, 1, 1, 1, 1, 1, 1, 1, 1,\n",
       "         1, 1, 1, 1, 1, 1, 1, 1, 1, 1, 1, 1, 1, 1, 1, 1, 0, 1, 1, 1, 1,\n",
       "         1, 1, 1, 1, 1, 1, 1, 1, 1, 1, 1, 1, 1, 1, 1, 1, 1, 1, 1, 1, 1,\n",
       "         1]])"
      ]
     },
     "execution_count": 87,
     "metadata": {},
     "output_type": "execute_result"
    }
   ],
   "source": [
    "my_custom_pred_mat = np.matrix(my_custom_pred)\n",
    "my_custom_pred_mat"
   ]
  },
  {
   "cell_type": "code",
   "execution_count": 88,
   "metadata": {},
   "outputs": [
    {
     "data": {
      "text/plain": [
       "(1, 400)"
      ]
     },
     "execution_count": 88,
     "metadata": {},
     "output_type": "execute_result"
    }
   ],
   "source": [
    "my_custom_pred_mat.shape"
   ]
  },
  {
   "cell_type": "code",
   "execution_count": 89,
   "metadata": {},
   "outputs": [
    {
     "data": {
      "text/plain": [
       "(400, 1)"
      ]
     },
     "execution_count": 89,
     "metadata": {},
     "output_type": "execute_result"
    }
   ],
   "source": [
    "my_custom_pred_mat = my_custom_pred_mat.reshape(-1,1)\n",
    "my_custom_pred_mat.shape"
   ]
  },
  {
   "cell_type": "code",
   "execution_count": 90,
   "metadata": {},
   "outputs": [
    {
     "data": {
      "text/plain": [
       "array([[190,  10],\n",
       "       [ 10, 190]], dtype=int64)"
      ]
     },
     "execution_count": 90,
     "metadata": {},
     "output_type": "execute_result"
    }
   ],
   "source": [
    "confusion_matrix(ft2,my_custom_pred_mat)"
   ]
  },
  {
   "cell_type": "code",
   "execution_count": 91,
   "metadata": {},
   "outputs": [
    {
     "data": {
      "image/png": "[encoded data removed]",
      "text/plain": [
       "<Figure size 216x216 with 2 Axes>"
      ]
     },
     "metadata": {},
     "output_type": "display_data"
    }
   ],
   "source": [
    "# Drawing confusion matrix\n",
    "\n",
    "sns.set(font_scale=1.5)\n",
    "\n",
    "def plot_conf_mat(ft2,my_custom_pred_mat):\n",
    "    # Plot a confusion matrix using Seaborn's heatmap()\n",
    "    fig,ax = plt.subplots(figsize=(3,3))\n",
    "    ax = sns.heatmap(confusion_matrix(ft2,my_custom_pred_mat),\n",
    "                     annot=True,    # annot is true then only the numbers will appear in matrix otherwise won't\n",
    "                     cbar=True,     # Color bar on right will be shown if true\n",
    "                     fmt='g')       # By default .2g was showing error, so it is set to g\n",
    "    plt.xlabel(\"True label\")\n",
    "    plt.ylabel(\"Predicted label\")\n",
    "      \n",
    "\n",
    "plot_conf_mat(ft2,my_custom_pred_mat)"
   ]
  },
  {
   "cell_type": "code",
   "execution_count": 92,
   "metadata": {},
   "outputs": [
    {
     "name": "stdout",
     "output_type": "stream",
     "text": [
      "              precision    recall  f1-score   support\n",
      "\n",
      "           0       0.95      0.95      0.95       200\n",
      "           1       0.95      0.95      0.95       200\n",
      "\n",
      "    accuracy                           0.95       400\n",
      "   macro avg       0.95      0.95      0.95       400\n",
      "weighted avg       0.95      0.95      0.95       400\n",
      "\n"
     ]
    }
   ],
   "source": [
    "print(classification_report(ft2,my_custom_pred_mat))"
   ]
  },
  {
   "cell_type": "markdown",
   "metadata": {},
   "source": [
    "## Hyperparameter tuning "
   ]
  },
  {
   "cell_type": "code",
   "execution_count": 93,
   "metadata": {},
   "outputs": [
    {
     "data": {
      "text/plain": [
       "{'bootstrap': True,\n",
       " 'ccp_alpha': 0.0,\n",
       " 'class_weight': None,\n",
       " 'criterion': 'gini',\n",
       " 'max_depth': None,\n",
       " 'max_features': 'auto',\n",
       " 'max_leaf_nodes': None,\n",
       " 'max_samples': None,\n",
       " 'min_impurity_decrease': 0.0,\n",
       " 'min_impurity_split': None,\n",
       " 'min_samples_leaf': 1,\n",
       " 'min_samples_split': 2,\n",
       " 'min_weight_fraction_leaf': 0.0,\n",
       " 'n_estimators': 100,\n",
       " 'n_jobs': None,\n",
       " 'oob_score': False,\n",
       " 'random_state': None,\n",
       " 'verbose': 0,\n",
       " 'warm_start': False}"
      ]
     },
     "execution_count": 93,
     "metadata": {},
     "output_type": "execute_result"
    }
   ],
   "source": [
    "# Setup RandomForestClassifier instance\n",
    "clf3 = RandomForestClassifier()\n",
    "clf3.get_params()"
   ]
  },
  {
   "cell_type": "code",
   "execution_count": 94,
   "metadata": {},
   "outputs": [],
   "source": [
    "np.random.seed(42)\n",
    "\n",
    "train_scores = []\n",
    "test_scores = []\n",
    "\n",
    "# Create a list of different values for n_estimators\n",
    "estimators_list = range(50,1000,50)\n",
    "\n",
    "\n",
    "# Loop through different n_neighbors\n",
    "for i in estimators_list:\n",
    "    clf3.set_params(n_estimators=i)\n",
    "    \n",
    "    # Fit the algorithm\n",
    "    clf3.fit(e_train,f_train)\n",
    "    \n",
    "    # Update the training scores list\n",
    "    train_scores.append(clf3.score(e_train,f_train))\n",
    "    \n",
    "    # Update the test scores list\n",
    "    test_scores.append(clf3.score(ft1,ft2))"
   ]
  },
  {
   "cell_type": "code",
   "execution_count": 95,
   "metadata": {},
   "outputs": [
    {
     "name": "stdout",
     "output_type": "stream",
     "text": [
      "Maximum RandomForestClassifier score on test data : 94.25\n"
     ]
    },
    {
     "data": {
      "image/png": "[encoded data removed]",
      "text/plain": [
       "<Figure size 720x720 with 1 Axes>"
      ]
     },
     "metadata": {},
     "output_type": "display_data"
    }
   ],
   "source": [
    "plt.figure(figsize=(10,10))\n",
    "# plt.plot(estimators_list, train_scores, label=\"Train score\")\n",
    "plt.plot(estimators_list, test_scores, label=\"Test score\")\n",
    "plt.xlabel(\"Number of Estimators\")\n",
    "plt.ylabel(\"Model score\")\n",
    "plt.legend()\n",
    "\n",
    "print(f\"Maximum RandomForestClassifier score on test data : {max(test_scores)*100:.2f}\")"
   ]
  },
  {
   "cell_type": "code",
   "execution_count": 96,
   "metadata": {},
   "outputs": [],
   "source": [
    "np.random.seed(42)\n",
    "\n",
    "train_scores = []\n",
    "test_scores = []\n",
    "\n",
    "# Create a list of different values for n_neighbors\n",
    "max_depth_list = range(1,20,1)\n",
    "\n",
    "\n",
    "# Loop through different n_neighbors\n",
    "for i in max_depth_list:\n",
    "    clf3.set_params(max_depth=i)\n",
    "    \n",
    "    # Fit the algorithm\n",
    "    clf3.fit(e_train,f_train)\n",
    "    \n",
    "    # Update the training scores list\n",
    "    train_scores.append(clf3.score(e_train,f_train))\n",
    "    \n",
    "    # Update the test scores list\n",
    "    test_scores.append(clf3.score(ft1,ft2))"
   ]
  },
  {
   "cell_type": "code",
   "execution_count": 97,
   "metadata": {},
   "outputs": [
    {
     "name": "stdout",
     "output_type": "stream",
     "text": [
      "Maximum RandomForestClassifier score on test data : 94.25\n"
     ]
    },
    {
     "data": {
      "image/png": "[encoded data removed]",
      "text/plain": [
       "<Figure size 720x720 with 1 Axes>"
      ]
     },
     "metadata": {},
     "output_type": "display_data"
    }
   ],
   "source": [
    "plt.figure(figsize=(10,10))\n",
    "# plt.plot(estimators_list, train_scores, label=\"Train score\")\n",
    "plt.plot(max_depth_list, test_scores, label=\"Test score\")\n",
    "plt.xlabel(\"Max Depth\")\n",
    "plt.ylabel(\"Model score\")\n",
    "plt.legend()\n",
    "\n",
    "print(f\"Maximum RandomForestClassifier score on test data : {max(test_scores)*100:.2f}\")"
   ]
  },
  {
   "cell_type": "markdown",
   "metadata": {},
   "source": [
    "## RandomizedSearchCV for finding best parameter"
   ]
  },
  {
   "cell_type": "code",
   "execution_count": 98,
   "metadata": {},
   "outputs": [],
   "source": [
    "# Hyperparameter tuning using RandomizedSearchCV\n",
    "# Create a hyperparameter grid for RandomForestClassifier\n",
    "rf_grid = {\"n_estimators\": np.arange(10,750,50),\n",
    "           \"max_depth\":[None,3,5,10,15],\n",
    "           \"min_samples_split\": np.arange(2,20,2),\n",
    "           \"min_samples_leaf\": np.arange(1,20,2)}"
   ]
  },
  {
   "cell_type": "code",
   "execution_count": 99,
   "metadata": {},
   "outputs": [
    {
     "name": "stdout",
     "output_type": "stream",
     "text": [
      "Fitting 5 folds for each of 20 candidates, totalling 100 fits\n"
     ]
    },
    {
     "name": "stderr",
     "output_type": "stream",
     "text": [
      "[Parallel(n_jobs=1)]: Using backend SequentialBackend with 1 concurrent workers.\n",
      "[Parallel(n_jobs=1)]: Done 100 out of 100 | elapsed: 14.5min finished\n"
     ]
    },
    {
     "data": {
      "text/plain": [
       "RandomizedSearchCV(cv=5, estimator=RandomForestClassifier(), n_iter=20,\n",
       "                   param_distributions={'max_depth': [None, 3, 5, 10, 15],\n",
       "                                        'min_samples_leaf': array([ 1,  3,  5,  7,  9, 11, 13, 15, 17, 19]),\n",
       "                                        'min_samples_split': array([ 2,  4,  6,  8, 10, 12, 14, 16, 18]),\n",
       "                                        'n_estimators': array([ 10,  60, 110, 160, 210, 260, 310, 360, 410, 460, 510, 560, 610,\n",
       "       660, 710])},\n",
       "                   verbose=True)"
      ]
     },
     "execution_count": 99,
     "metadata": {},
     "output_type": "execute_result"
    }
   ],
   "source": [
    "from sklearn.model_selection import RandomizedSearchCV, GridSearchCV\n",
    "\n",
    "# Setup random seed\n",
    "np.random.seed(42)\n",
    "\n",
    "# Setup random hyperparameter search for RandomForestClassifier\n",
    "rs_rf = RandomizedSearchCV(RandomForestClassifier(),\n",
    "                           param_distributions=rf_grid,\n",
    "                           cv=5,\n",
    "                           n_iter=20,\n",
    "                           verbose=True)\n",
    "\n",
    "# Fit random hyperparameter search model for RandomForestClassifier()\n",
    "rs_rf.fit(e_train,f_train)"
   ]
  },
  {
   "cell_type": "code",
   "execution_count": 100,
   "metadata": {},
   "outputs": [
    {
     "data": {
      "text/plain": [
       "{'n_estimators': 660,\n",
       " 'min_samples_split': 6,\n",
       " 'min_samples_leaf': 3,\n",
       " 'max_depth': 15}"
      ]
     },
     "execution_count": 100,
     "metadata": {},
     "output_type": "execute_result"
    }
   ],
   "source": [
    "rs_rf.best_params_"
   ]
  },
  {
   "cell_type": "code",
   "execution_count": 101,
   "metadata": {},
   "outputs": [
    {
     "data": {
      "text/plain": [
       "0.9375"
      ]
     },
     "execution_count": 101,
     "metadata": {},
     "output_type": "execute_result"
    }
   ],
   "source": [
    "rs_rf.score(ft1,ft2)"
   ]
  },
  {
   "cell_type": "code",
   "execution_count": 102,
   "metadata": {},
   "outputs": [
    {
     "data": {
      "text/plain": [
       "(400,)"
      ]
     },
     "execution_count": 102,
     "metadata": {},
     "output_type": "execute_result"
    }
   ],
   "source": [
    "preds_on_finaltest4 = rs_rf.predict(ft1)\n",
    "preds_on_finaltest4.shape"
   ]
  },
  {
   "cell_type": "code",
   "execution_count": 103,
   "metadata": {},
   "outputs": [
    {
     "data": {
      "text/plain": [
       "array([[182,  18],\n",
       "       [  7, 193]], dtype=int64)"
      ]
     },
     "execution_count": 103,
     "metadata": {},
     "output_type": "execute_result"
    }
   ],
   "source": [
    "confusion_matrix(ft2,preds_on_finaltest4)"
   ]
  },
  {
   "cell_type": "code",
   "execution_count": 104,
   "metadata": {},
   "outputs": [
    {
     "data": {
      "image/png": "[encoded data removed]",
      "text/plain": [
       "<Figure size 216x216 with 2 Axes>"
      ]
     },
     "metadata": {},
     "output_type": "display_data"
    }
   ],
   "source": [
    "# Drawing confusion matrix\n",
    "\n",
    "sns.set(font_scale=1.5)\n",
    "\n",
    "def plot_conf_mat(ft2,preds_on_finaltest4):\n",
    "    # Plot a confusion matrix using Seaborn's heatmap()\n",
    "    fig,ax = plt.subplots(figsize=(3,3))\n",
    "    ax = sns.heatmap(confusion_matrix(ft2,preds_on_finaltest4),\n",
    "                     annot=True,    # annot is true then only the numbers will appear in matrix otherwise won't\n",
    "                     cbar=True,     # Color bar on right will be shown if true\n",
    "                     fmt='g')       # By default .2g was showing error, so it is set to g\n",
    "    plt.xlabel(\"True label\")\n",
    "    plt.ylabel(\"Predicted label\")\n",
    "      \n",
    "\n",
    "plot_conf_mat(ft2,preds_on_finaltest4)"
   ]
  },
  {
   "cell_type": "markdown",
   "metadata": {},
   "source": [
    "## Manually controlling Precision and Recall. And gain 3% more recall for attrited customers"
   ]
  },
  {
   "cell_type": "code",
   "execution_count": 105,
   "metadata": {},
   "outputs": [
    {
     "data": {
      "text/plain": [
       "(400, 2)"
      ]
     },
     "execution_count": 105,
     "metadata": {},
     "output_type": "execute_result"
    }
   ],
   "source": [
    "preds_on_finaltest5 = rs_rf.predict_proba(ft1)\n",
    "preds_on_finaltest5.shape"
   ]
  },
  {
   "cell_type": "code",
   "execution_count": 106,
   "metadata": {},
   "outputs": [
    {
     "data": {
      "text/plain": [
       "400"
      ]
     },
     "execution_count": 106,
     "metadata": {},
     "output_type": "execute_result"
    }
   ],
   "source": [
    "my_custom_pred2 = []\n",
    "for i in range(0,400):\n",
    "    for j in range(0,1):\n",
    "        if (preds_on_finaltest5[i][j]>0.35):\n",
    "            my_custom_pred2.append(0)\n",
    "        else :\n",
    "            my_custom_pred2.append(1)\n",
    "len(my_custom_pred2)"
   ]
  },
  {
   "cell_type": "code",
   "execution_count": 107,
   "metadata": {},
   "outputs": [
    {
     "data": {
      "text/plain": [
       "(400, 1)"
      ]
     },
     "execution_count": 107,
     "metadata": {},
     "output_type": "execute_result"
    }
   ],
   "source": [
    "my_custom_pred2_mat = np.matrix(my_custom_pred2)\n",
    "my_custom_pred2_mat = my_custom_pred2_mat.reshape(-1,1)\n",
    "my_custom_pred2_mat.shape"
   ]
  },
  {
   "cell_type": "code",
   "execution_count": 108,
   "metadata": {},
   "outputs": [
    {
     "data": {
      "text/plain": [
       "array([[192,   8],\n",
       "       [ 14, 186]], dtype=int64)"
      ]
     },
     "execution_count": 108,
     "metadata": {},
     "output_type": "execute_result"
    }
   ],
   "source": [
    "confusion_matrix(ft2,my_custom_pred2_mat)"
   ]
  },
  {
   "cell_type": "code",
   "execution_count": 109,
   "metadata": {},
   "outputs": [
    {
     "data": {
      "image/png": "[encoded data removed]",
      "text/plain": [
       "<Figure size 216x216 with 2 Axes>"
      ]
     },
     "metadata": {},
     "output_type": "display_data"
    }
   ],
   "source": [
    "# Drawing confusion matrix\n",
    "\n",
    "sns.set(font_scale=1.5)\n",
    "\n",
    "def plot_conf_mat(ft2,my_custom_pred2_mat):\n",
    "    # Plot a confusion matrix using Seaborn's heatmap()\n",
    "    fig,ax = plt.subplots(figsize=(3,3))\n",
    "    ax = sns.heatmap(confusion_matrix(ft2,my_custom_pred2_mat),\n",
    "                     annot=True,    # annot is true then only the numbers will appear in matrix otherwise won't\n",
    "                     cbar=True,     # Color bar on right will be shown if true\n",
    "                     fmt='g')       # By default .2g was showing error, so it is set to g\n",
    "    plt.xlabel(\"True label\")\n",
    "    plt.ylabel(\"Predicted label\")\n",
    "      \n",
    "\n",
    "plot_conf_mat(ft2,my_custom_pred2_mat)"
   ]
  },
  {
   "cell_type": "code",
   "execution_count": 110,
   "metadata": {},
   "outputs": [
    {
     "name": "stdout",
     "output_type": "stream",
     "text": [
      "              precision    recall  f1-score   support\n",
      "\n",
      "           0       0.93      0.96      0.95       200\n",
      "           1       0.96      0.93      0.94       200\n",
      "\n",
      "    accuracy                           0.94       400\n",
      "   macro avg       0.95      0.95      0.94       400\n",
      "weighted avg       0.95      0.94      0.94       400\n",
      "\n"
     ]
    }
   ],
   "source": [
    "print(classification_report(ft2,my_custom_pred2_mat))"
   ]
  },
  {
   "cell_type": "markdown",
   "metadata": {},
   "source": [
    "## Saving our model"
   ]
  },
  {
   "cell_type": "code",
   "execution_count": 111,
   "metadata": {},
   "outputs": [],
   "source": [
    "import pickle\n",
    "# Pickling is process to convert python object into a byte stream\n",
    "# Unpickling is process where byte stream is converted to python object\n",
    "# Save an existing model to file\n",
    "pickle.dump(rs_rf,open(\"ChurningCustomers_RandomForest.pkl\",\"wb\"))"
   ]
  },
  {
   "cell_type": "code",
   "execution_count": null,
   "metadata": {},
   "outputs": [],
   "source": []
  }
 ],
 "metadata": {
  "kernelspec": {
   "display_name": "Python 3",
   "language": "python",
   "name": "python3"
  },
  "language_info": {
   "codemirror_mode": {
    "name": "ipython",
    "version": 3
   },
   "file_extension": ".py",
   "mimetype": "text/x-python",
   "name": "python",
   "nbconvert_exporter": "python",
   "pygments_lexer": "ipython3",
   "version": "3.8.5"
  }
 },
 "nbformat": 4,
 "nbformat_minor": 4
}
